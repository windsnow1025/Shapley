{
 "nbformat": 4,
 "nbformat_minor": 0,
 "metadata": {
  "colab": {
   "provenance": [],
   "toc_visible": true
  },
  "kernelspec": {
   "name": "python3",
   "language": "python",
   "display_name": "Python 3 (ipykernel)"
  },
  "language_info": {
   "name": "python"
  }
 },
 "cells": [
  {
   "cell_type": "markdown",
   "source": [
    "# A Short Tutorial on Valda\n",
    "\n",
    "Author: [Yangfeng Ji](https://yangfengji.net/)\n",
    "\n",
    "The central task of data valuation is to **estimate the contribution of training examples to the final prediction performance**.\n",
    "\n",
    "This is a short tutorial of the [Valda](https://uvanlp.org/valda/) package developed by the UVa ILP group. This tutorial is based on valda v0.1.10.\n",
    "If you find any problems or have any suggestions of this package, please create an issue via [this link](https://github.com/uvanlp/valda/issues).\n",
    "\n",
    "---\n",
    "\n",
    "**Note**: the performance of the data valuation methods in this tutorial should *not* be used to decide which method that you will use. This tutorial is to provide demos of how to use Valda, instead of a rigorous comparison of these methods.\n",
    "\n",
    "Based on our experience, the factors that could affect a data valuation method include\n",
    "\n",
    "- the hyper-parameters of each method (e.g., number of iterations/permutations in TMC-Shapley)\n",
    "- the classifier used for valuation (e.g., the ones from Sklearn vs. user-defined classifier), and\n",
    "- the complexity of a data distribution vs. the capacity of a classifier (e.g., using a linear classifier for a dataset with complicated may not be ideal).\n",
    "\n",
    "In practice, please take these three factors into your consideration when choosing a method.\n",
    "\n",
    "---\n",
    "\n",
    "Now, let's get started.\n",
    "\n",
    "First, we need to install the package from PyPI."
   ],
   "metadata": {
    "id": "t9r7rYemMZh_"
   }
  },
  {
   "cell_type": "code",
   "execution_count": 4,
   "metadata": {
    "id": "2cPplmJHMUTe",
    "ExecuteTime": {
     "end_time": "2023-09-11T14:04:26.142437800Z",
     "start_time": "2023-09-11T14:04:26.125257300Z"
    }
   },
   "outputs": [],
   "source": [
    "import valda"
   ]
  },
  {
   "cell_type": "markdown",
   "source": [
    "Then, we need to download the example data from the package website.\n",
    "\n",
    "In this tutorial, we will use a small proportion of the `diabetes` dataset. The original dataset can be found via [this OpenML link](https://www.openml.org/search?type=data&sort=runs&id=37&status=active)"
   ],
   "metadata": {
    "id": "Ana_82ejRW48"
   }
  },
  {
   "cell_type": "code",
   "execution_count": 5,
   "outputs": [],
   "source": [
    "import os\n",
    "import requests\n",
    "import tarfile\n",
    "\n",
    "# Removing the file\n",
    "file_path = \"diabetes.*\"\n",
    "if os.path.exists(file_path):\n",
    "    os.remove(file_path)\n",
    "\n",
    "# Downloading the file\n",
    "url = \"https://uvanlp.org/data/diabetes.tgz\"\n",
    "response = requests.get(url)\n",
    "with open(\"diabetes.tgz\", \"wb\") as f:\n",
    "    f.write(response.content)\n",
    "\n",
    "# Extracting the tar file\n",
    "with tarfile.open(\"diabetes.tgz\", \"r:gz\") as tar:\n",
    "    tar.extractall()"
   ],
   "metadata": {
    "collapsed": false,
    "ExecuteTime": {
     "end_time": "2023-09-11T14:04:28.264500100Z",
     "start_time": "2023-09-11T14:04:26.887464300Z"
    }
   }
  },
  {
   "cell_type": "code",
   "source": [
    "from pickle import load\n",
    "data = load(open('diabetes.pkl', 'rb'))\n",
    "\n",
    "# The set of examples that will be evaluated\n",
    "trnX, trnY = data['trnX'], data['trnY']\n",
    "# We need a development set to value the training examples\n",
    "devX, devY = data['devX'], data['devY']\n",
    "\n",
    "print(\"Dimensions of data: {}\".format(trnX.shape[1]))\n",
    "print(\"Number of training examples: {}\".format(trnX.shape[0]))\n",
    "print(\"Number of validation/development examples: {}\".format(devX.shape[0]))"
   ],
   "metadata": {
    "id": "y1MQNA7JRVY_",
    "ExecuteTime": {
     "end_time": "2023-09-11T14:04:28.264500100Z",
     "start_time": "2023-09-11T14:04:28.250946100Z"
    }
   },
   "execution_count": 6,
   "outputs": [
    {
     "name": "stdout",
     "output_type": "stream",
     "text": [
      "Dimensions of data: 8\n",
      "Number of training examples: 128\n",
      "Number of validation/development examples: 128\n"
     ]
    }
   ]
  },
  {
   "cell_type": "markdown",
   "source": [
    "## 1 Data Valuation\n",
    "\n",
    "We will start from a simple example. Please make sure you can run the following code block before moving to the next one.\n",
    "\n",
    "\n"
   ],
   "metadata": {
    "id": "fu8bNVKqMYss"
   }
  },
  {
   "cell_type": "markdown",
   "source": [
    "### 1.1 A Simple Example\n",
    "\n",
    "The following code block loads the `DataValuation` class and creates an instance with the training and development sets\n",
    "- Training set: (trnX, trnY)\n",
    "- Development set: (devX, devY)\n",
    "\n",
    "The algorithm will evaluate the contribution of each individual training example, based on the performance change on the development set.\n",
    "\n",
    "The default data valuation method is `loo` (Leave-one-out), which is simply removing one data point and measuring the performance difference with training on the whole set.\n",
    "\n",
    "The `estimate()` function returns a Python dictionary of example indices and their corresponding values.\n"
   ],
   "metadata": {
    "id": "d0CQGqzgTV10"
   }
  },
  {
   "cell_type": "code",
   "source": [
    "from valda.valuation import DataValuation\n",
    "\n",
    "# Define a DataValuation instance\n",
    "dv = DataValuation(trnX, trnY, devX, devY)\n",
    "\n",
    "# Run with the default setting:\n",
    "# 1. Logistic regression as the classifier\n",
    "# 2. Prediction accuracy as the value measurement\n",
    "vals = dv.estimate()\n",
    "print(vals)"
   ],
   "metadata": {
    "id": "GxcJEzo_MuOz",
    "ExecuteTime": {
     "end_time": "2023-09-11T14:04:29.778756Z",
     "start_time": "2023-09-11T14:04:29.052648Z"
    }
   },
   "execution_count": 7,
   "outputs": [
    {
     "name": "stderr",
     "output_type": "stream",
     "text": [
      "100%|██████████| 128/128 [00:00<00:00, 246.49it/s]"
     ]
    },
    {
     "name": "stdout",
     "output_type": "stream",
     "text": [
      "{0: 0.0, 1: 0.0078125, 2: 0.0078125, 3: 0.0, 4: 0.0234375, 5: 0.0, 6: 0.0234375, 7: 0.0, 8: 0.0078125, 9: 0.0, 10: 0.0, 11: 0.0, 12: 0.0078125, 13: 0.0, 14: 0.015625, 15: 0.015625, 16: 0.0078125, 17: 0.0078125, 18: 0.0, 19: 0.0, 20: 0.0, 21: 0.0, 22: 0.0, 23: 0.0, 24: 0.0, 25: 0.0078125, 26: 0.0, 27: 0.0078125, 28: 0.0078125, 29: 0.0078125, 30: 0.0078125, 31: 0.0078125, 32: 0.0, 33: 0.0078125, 34: 0.0, 35: 0.0, 36: 0.0, 37: 0.0078125, 38: 0.0, 39: 0.0, 40: 0.0, 41: 0.0, 42: 0.015625, 43: 0.0, 44: 0.0078125, 45: 0.0078125, 46: 0.0, 47: 0.0, 48: 0.0078125, 49: 0.0, 50: 0.0, 51: 0.0, 52: 0.0078125, 53: 0.0078125, 54: 0.0, 55: 0.0, 56: 0.0, 57: 0.0, 58: 0.0, 59: 0.0078125, 60: 0.0078125, 61: 0.0, 62: 0.0078125, 63: 0.0, 64: 0.0078125, 65: 0.0, 66: 0.0078125, 67: 0.0, 68: 0.015625, 69: 0.0, 70: 0.0078125, 71: 0.0078125, 72: 0.0078125, 73: 0.0, 74: 0.0, 75: 0.0, 76: 0.015625, 77: 0.0, 78: 0.0, 79: 0.0078125, 80: 0.0078125, 81: 0.0, 82: 0.0078125, 83: 0.0234375, 84: 0.0078125, 85: 0.0078125, 86: 0.0078125, 87: 0.0078125, 88: 0.0, 89: 0.0, 90: 0.0, 91: 0.0078125, 92: 0.0, 93: 0.0, 94: 0.0, 95: 0.0078125, 96: 0.0, 97: 0.0, 98: 0.0078125, 99: 0.0, 100: 0.015625, 101: 0.0, 102: 0.0, 103: 0.0, 104: 0.015625, 105: 0.0078125, 106: 0.0, 107: 0.0, 108: 0.0, 109: 0.0, 110: 0.0, 111: 0.0, 112: 0.0, 113: 0.0078125, 114: 0.0078125, 115: 0.0078125, 116: 0.0, 117: 0.0078125, 118: 0.0, 119: 0.0, 120: 0.0, 121: 0.0, 122: 0.0078125, 123: 0.0, 124: 0.0078125, 125: 0.0078125, 126: 0.0078125, 127: 0.0}\n"
     ]
    },
    {
     "name": "stderr",
     "output_type": "stream",
     "text": [
      "\n"
     ]
    }
   ]
  },
  {
   "cell_type": "markdown",
   "source": [
    "### 1.2 Evaluation\n",
    "\n",
    "A typical way of evaluating a data valuation method is the `data removal` task with the following three steps:\n",
    "\n",
    "- rank the training examples with a decreasing order of values\n",
    "- remove one example at a time consecutively from the training set `(trnX, trnY)`, and\n",
    "- re-train the model to measure the performance drop on the test set `(tstX, tstY)`.\n",
    "\n",
    "As shown in this block and the following ones, a **better** algorithm will give a much **steeper** performance drop, as the data valuation method successfully identify important training examples.\n",
    "\n",
    "The default method `loo` usually does not perform good on most of the dataset, but we will try a better one later.\n",
    "\n",
    "Two ways to present the results of evaluation:\n",
    "\n",
    "- visualize the performance curve\n",
    "- calculate the weighted accuracy drop (`weighted_acc_drop`) defined in [(Schoch et al., 2022)](https://arxiv.org/abs/2211.06800)"
   ],
   "metadata": {
    "id": "l2d11sevV6q5"
   }
  },
  {
   "cell_type": "code",
   "source": [
    "from matplotlib import pyplot as plt\n",
    "\n",
    "# Import the evaluation task: Data Removal\n",
    "from valda.eval import data_removal\n",
    "# Import the evaluation metric: Weighted Accuracy Drop\n",
    "from valda.metrics import weighted_acc_drop\n",
    "\n",
    "# For a fair evaluation, we need a separate test set for the final evaluation\n",
    "tstX, tstY = data['tstX'], data['tstY']\n",
    "\n",
    "accs = data_removal(vals, trnX, trnY, tstX, tstY)\n",
    "plt.plot(range(len(accs)), accs)\n",
    "res = weighted_acc_drop(accs)\n",
    "print(\"The weighted accuracy drop is {:.3f}\".format(res))"
   ],
   "metadata": {
    "id": "MXL4yAQ1SA26",
    "ExecuteTime": {
     "end_time": "2023-09-11T14:04:30.788636200Z",
     "start_time": "2023-09-11T14:04:29.778756Z"
    }
   },
   "execution_count": 8,
   "outputs": [
    {
     "name": "stdout",
     "output_type": "stream",
     "text": [
      "The weighted accuracy drop is 0.067\n"
     ]
    },
    {
     "data": {
      "text/plain": "<Figure size 640x480 with 1 Axes>",
      "image/png": "[encoded data removed]"
     },
     "metadata": {},
     "output_type": "display_data"
    }
   ]
  },
  {
   "cell_type": "markdown",
   "source": [
    "## 2 More Options\n",
    "\n",
    "The `estimate()` function from the `DataValuation` class takes three parameters\n",
    "\n",
    "- `method`: the data valuation method, so far the package offers five options\n",
    "- `clf`: the classification method that used to estimate data values\n",
    "\n",
    "- `params`: Hyper-parameters for the data valuation methods\n",
    "\n",
    "We will explain each of the three parameters in the following"
   ],
   "metadata": {
    "id": "t3z8F1H9Muv0"
   }
  },
  {
   "cell_type": "markdown",
   "source": [
    "### 2.1 Use a Different Data Valuation Method\n",
    "\n",
    "- `loo`: the Leave-one-out method\n",
    "- `tmc-shapley`: the Data Shapley method estimated with tuncated Monte Carlo (TMC) [(Ghorbani and Zou, 2019)](https://proceedings.mlr.press/v97/ghorbani19c.html)\n",
    "- `beta-shapley`: the Beta Shapley method [(Kwon and Zou, 2021)](https://arxiv.org/abs/2110.14049)\n",
    "- `cs-shapley`: the Class-wise Shapley method in [(Schoch et al. 2022)](https://arxiv.org/abs/2211.06800)\n",
    "- `inf_func`: the Influence Function method in [(Koh and Liang, 2017)](https://arxiv.org/abs/1703.04730).\n",
    "    - It only works with the classifiers defined with [PyTorch](https://pytorch.org/), as it needs the gradient computation.\n",
    "    - To make it consistent with other data valuation methods, in Valda, large IF values mean high-value examples (unlike in the original paper)\n",
    "\n",
    "Following the previous example, we can change the data valuation method from the default one (`loo`) to the TMC-Shapley (`tmc-shapley`) method"
   ],
   "metadata": {
    "id": "OpZZuMi4avqW"
   }
  },
  {
   "cell_type": "code",
   "source": [
    "vals = dv.estimate(method='tmc-shapley')\n",
    "\n",
    "accs = data_removal(vals, trnX, trnY, tstX, tstY)\n",
    "\n",
    "plt.plot(range(len(accs)), accs)\n",
    "res = weighted_acc_drop(accs)\n",
    "print(\"The weighted accuracy drop is {:.3f}\".format(res))"
   ],
   "metadata": {
    "id": "3OT41IRRa6zw",
    "ExecuteTime": {
     "end_time": "2023-09-11T14:04:50.947646600Z",
     "start_time": "2023-09-11T14:04:30.724949700Z"
    }
   },
   "execution_count": 9,
   "outputs": [
    {
     "name": "stderr",
     "output_type": "stream",
     "text": [
      "100%|██████████| 500/500 [00:19<00:00, 25.53it/s]\n"
     ]
    },
    {
     "name": "stdout",
     "output_type": "stream",
     "text": [
      "The weighted accuracy drop is 0.352\n"
     ]
    },
    {
     "data": {
      "text/plain": "<Figure size 640x480 with 1 Axes>",
      "image/png": "[encoded data removed]"
     },
     "metadata": {},
     "output_type": "display_data"
    }
   ]
  },
  {
   "cell_type": "markdown",
   "source": [
    "### 2.2 Use a Different Classifier for Valuation\n",
    "\n",
    "- the package is compatible with the classifiers defined in [Sklearn](https://scikit-learn.org/stable/).\n",
    "- it also supports user-defined classifiers via PyTorch, as demonstrated in section 3.\n",
    "\n",
    "Added on the previous example, we can try the data valuation with a different classifier (e.g., decision tree) via the `clf` parameter.\n",
    "\n",
    "Although the weighted avarage score may be (slightly) different from the one estimated with the lognistic regression classifier, the plot should look similar."
   ],
   "metadata": {
    "id": "7aaVRS6Va7QV"
   }
  },
  {
   "cell_type": "code",
   "source": [
    "from sklearn.tree import DecisionTreeClassifier\n",
    "\n",
    "\n",
    "tree_model = DecisionTreeClassifier()\n",
    "\n",
    "vals = dv.estimate(method='tmc-shapley', clf=tree_model)\n",
    "\n",
    "accs = data_removal(vals, trnX, trnY, tstX, tstY)\n",
    "\n",
    "plt.plot(range(len(accs)), accs)\n",
    "res = weighted_acc_drop(accs)\n",
    "print(\"The weighted accuracy drop is {:.3f}\".format(res))"
   ],
   "metadata": {
    "id": "JQiqpSwObIFL",
    "ExecuteTime": {
     "end_time": "2023-09-11T14:06:28.023083300Z",
     "start_time": "2023-09-11T14:04:50.874292800Z"
    }
   },
   "execution_count": 10,
   "outputs": [
    {
     "name": "stderr",
     "output_type": "stream",
     "text": [
      "100%|██████████| 500/500 [01:36<00:00,  5.20it/s]\n"
     ]
    },
    {
     "name": "stdout",
     "output_type": "stream",
     "text": [
      "The weighted accuracy drop is 0.329\n"
     ]
    },
    {
     "data": {
      "text/plain": "<Figure size 640x480 with 1 Axes>",
      "image/png": "[encoded data removed]"
     },
     "metadata": {},
     "output_type": "display_data"
    }
   ]
  },
  {
   "cell_type": "markdown",
   "source": [
    "### 2.3 Hyperparameters for Data Valuation Methods\n",
    "\n",
    "Each data valuation method has different hyperparameters, and here is the list of hyperparameters that each method has\n",
    "\n",
    "- LOO: no hyper-parameter\n",
    "- TMC Shapley\n",
    "    - `tmc_iter`: (default: 500) number of iterations/permutations\n",
    "    - `tmc_thresh`: (default: 0.001) threshold for in truncated Monte Carlo method in each permutation\n",
    "- Beta Shapley\n",
    "    - `beta_iter`: (default: 50) number of iterations (similar to the one with TMC-Shapley). Note that, Beta Shapley is a little slower than TMC-Shapley, so we set a small number of iterations by default.\n",
    "    - `alpha` and `beta`: (default: 1.0 and 16.0) the parameters of Beta distribution\n",
    "    - `beta_chain`: (default: 10) number of chains for the Monte Carlo method\n",
    "    - `rho`:\n",
    "- CS-Shapley\n",
    "    - `cs_iter`: (default: 500) number of iterations/permutations (similar to the one with TMC-Shapley)\n",
    "    - `cs_thresh`: (default: 0.001) threshold for in truncated Monte Carlo method (similar to the one with TMC-Shapley\n",
    "- Influence Function:\n",
    "    - `if_iter`: (default: 10) number of iterations training the model before computing the gradient. If you have a pre-trained model, which does not need further training, set it to be 0.\n",
    "    - `second_order_grad`: (default: False) whether using the second-order gradient information for valuation\n",
    "    - `for_high_value`: (default: True) whether the valuation is to detect high-value examples\n",
    "\n",
    "`Valda` provides a class `Parameter` to query and revise the values of these hyperparameters, which has three basic functions\n",
    "- `print_values()`: print all the hyperparameters and their values\n",
    "- `update({key:val})`: update the hyperparameter `key` with the corresponding value `val`\n",
    "- `get_values()`: return all the values\n",
    "\n",
    "For example, you can print out the default values of the hyperparameters."
   ],
   "metadata": {
    "id": "q_A55KgUbKa-"
   }
  },
  {
   "cell_type": "code",
   "source": [
    "from valda.params import Parameters\n",
    "\n",
    "# Create a Parameter instance\n",
    "params = Parameters()\n",
    "# Print all the hyperparameters for the data valuation methods supported by Valda\n",
    "params.print_values()"
   ],
   "metadata": {
    "id": "RCkhwlEoeObV",
    "ExecuteTime": {
     "end_time": "2023-09-11T14:06:28.044872200Z",
     "start_time": "2023-09-11T14:06:28.021061400Z"
    }
   },
   "execution_count": 11,
   "outputs": [
    {
     "name": "stdout",
     "output_type": "stream",
     "text": [
      "The current hyper-parameter setting:\n",
      "\ttmc_iter : 500\n",
      "\ttmc_thresh : 0.001\n",
      "\tcs_iter : 500\n",
      "\tcs_thresh : 0.001\n",
      "\tbeta_iter : 50\n",
      "\talpha : 1.0\n",
      "\tbeta : 16.0\n",
      "\trho : 1.0005\n",
      "\tbeta_chain : 10\n",
      "\tif_iter : 30\n",
      "\tsecond_order_grad : False\n",
      "\tfor_high_value : True\n"
     ]
    }
   ]
  },
  {
   "cell_type": "markdown",
   "source": [
    "Following the previous example, if we want to change the number of iterations of TMC-Shapley to 100, here is what we can do"
   ],
   "metadata": {
    "id": "mX19CdsDgZBF"
   }
  },
  {
   "cell_type": "code",
   "source": [
    "# Update the hyperparameter value\n",
    "params.update({'tmc_iter':100})\n",
    "\n",
    "# Double check whether the values of 'tmc_iter' has been changed\n",
    "params.print_values()"
   ],
   "metadata": {
    "id": "afxsYJKIeSdf",
    "ExecuteTime": {
     "end_time": "2023-09-11T14:06:28.164554200Z",
     "start_time": "2023-09-11T14:06:28.041882100Z"
    }
   },
   "execution_count": 12,
   "outputs": [
    {
     "name": "stdout",
     "output_type": "stream",
     "text": [
      "The current hyper-parameter setting:\n",
      "\ttmc_iter : 100\n",
      "\ttmc_thresh : 0.001\n",
      "\tcs_iter : 500\n",
      "\tcs_thresh : 0.001\n",
      "\tbeta_iter : 50\n",
      "\talpha : 1.0\n",
      "\tbeta : 16.0\n",
      "\trho : 1.0005\n",
      "\tbeta_chain : 10\n",
      "\tif_iter : 30\n",
      "\tsecond_order_grad : False\n",
      "\tfor_high_value : True\n"
     ]
    }
   ]
  },
  {
   "cell_type": "markdown",
   "source": [
    "Run TMC-Shapley with the new iteration number. Based on the weighted accuracy drop, we can see a small number of iterations often gives down-graded performance on estimating the data values."
   ],
   "metadata": {
    "id": "4tjsPgWEg2pV"
   }
  },
  {
   "cell_type": "code",
   "source": [
    "# Run TMC-Shapley with the updated hyperparameters\n",
    "vals = dv.estimate(method='tmc-shapley',\n",
    "                   clf=tree_model,\n",
    "                   params=params.get_values() # Use the updated parameter\n",
    "                   )\n",
    "\n",
    "# Run the evaluation code again\n",
    "accs = data_removal(vals, trnX, trnY, tstX, tstY)\n",
    "\n",
    "plt.plot(range(len(accs)), accs)\n",
    "res = weighted_acc_drop(accs)\n",
    "print(\"The weighted accuracy drop is {:.3f}\".format(res))"
   ],
   "metadata": {
    "id": "Cziw2_hLgwI_",
    "ExecuteTime": {
     "end_time": "2023-09-11T14:06:50.631384400Z",
     "start_time": "2023-09-11T14:06:28.053264400Z"
    }
   },
   "execution_count": 13,
   "outputs": [
    {
     "name": "stdout",
     "output_type": "stream",
     "text": [
      "Overload the model parameters with the user specified ones: {'tmc_iter': 100, 'tmc_thresh': 0.001, 'cs_iter': 500, 'cs_thresh': 0.001, 'beta_iter': 50, 'alpha': 1.0, 'beta': 16.0, 'rho': 1.0005, 'beta_chain': 10, 'if_iter': 30, 'second_order_grad': False, 'for_high_value': True}\n"
     ]
    },
    {
     "name": "stderr",
     "output_type": "stream",
     "text": [
      "100%|██████████| 100/100 [00:21<00:00,  4.55it/s]\n"
     ]
    },
    {
     "name": "stdout",
     "output_type": "stream",
     "text": [
      "The weighted accuracy drop is 0.192\n"
     ]
    },
    {
     "data": {
      "text/plain": "<Figure size 640x480 with 1 Axes>",
      "image/png": "[encoded data removed]"
     },
     "metadata": {},
     "output_type": "display_data"
    }
   ]
  },
  {
   "cell_type": "markdown",
   "source": [
    "## 3 User-defined Classifiers\n",
    "\n",
    "Valda also support user-defined classifiers. So far, the support is only for the classifiers built with PyTorch. Since by default PyTorch use mini-batch training, Valda provides a scaffolding code to connect PyTorch based models with the rest of the code.\n",
    "\n",
    "In the following example, we demonstrate how to use user-defined classifiers with Valda."
   ],
   "metadata": {
    "id": "jGjIFrNtcqKm"
   }
  },
  {
   "cell_type": "markdown",
   "source": [
    "### 3.1 Logistic Regression with `PytorchClassifier`\n",
    "\n",
    "First, let's build an LR classifier using PyTorch:"
   ],
   "metadata": {
    "id": "lTOgies4WXYI"
   }
  },
  {
   "cell_type": "code",
   "source": [
    "import torch\n",
    "\n",
    "class LogisticRegression(torch.nn.Module):\n",
    "    def __init__(self, input_dim, output_dim):\n",
    "        super(LogisticRegression, self).__init__()\n",
    "        self.linear = torch.nn.Linear(input_dim, output_dim)\n",
    "        self.softmax = torch.nn.Softmax(dim=1)\n",
    "\n",
    "    def forward(self, x):\n",
    "        outputs = self.softmax(self.linear(x))\n",
    "        return outputs\n"
   ],
   "metadata": {
    "id": "rlmk0MrrhDTm",
    "ExecuteTime": {
     "end_time": "2023-09-11T14:06:50.733678100Z",
     "start_time": "2023-09-11T14:06:50.630444800Z"
    }
   },
   "execution_count": 14,
   "outputs": []
  },
  {
   "cell_type": "markdown",
   "source": [
    "Then, we need some additional pre-processing, as PyTorch does not work with non-numeric labels"
   ],
   "metadata": {
    "id": "Bhim8YIlZHHa"
   }
  },
  {
   "cell_type": "code",
   "source": [
    "from sklearn import preprocessing\n",
    "\n",
    "labels = list(set(trnY))\n",
    "le = preprocessing.LabelEncoder()\n",
    "le.fit(labels)\n",
    "trnY_num = le.transform(trnY)\n",
    "devY_num = le.transform(devY)\n",
    "tstY_num = le.transform(tstY)"
   ],
   "metadata": {
    "id": "OjATx4xsZOzH",
    "ExecuteTime": {
     "end_time": "2023-09-11T14:06:50.752646700Z",
     "start_time": "2023-09-11T14:06:50.645952900Z"
    }
   },
   "execution_count": 15,
   "outputs": []
  },
  {
   "cell_type": "markdown",
   "source": [
    "Then, we create an instance and use the scaffolding class `PytorchClassifier` provided by Valda to wrap up this instance.\n",
    "\n",
    "We will provide brief introduction of `PytorchClassifier` in section 3.3. In the following examples, the four parameters used in `PytorchClassifier` are\n",
    "\n",
    "- `model`: the classifier built with PyTorch\n",
    "- `epochs`: number of epochs for training this classifier\n",
    "- `*_batch_size`: the mini batch size for training/development sets"
   ],
   "metadata": {
    "id": "ywt-FDylYj6B"
   }
  },
  {
   "cell_type": "code",
   "source": [
    "from valda.pyclassifier import PytorchClassifier\n",
    "\n",
    "model = LogisticRegression(input_dim=trnX.shape[1],\n",
    "                           output_dim=len(labels))\n",
    "\n",
    "pt_clf = PytorchClassifier(model, epochs=20, trn_batch_size=16, dev_batch_size=16)"
   ],
   "metadata": {
    "id": "Hd_PfmPsX4BE",
    "ExecuteTime": {
     "end_time": "2023-09-11T14:06:50.752646700Z",
     "start_time": "2023-09-11T14:06:50.657995100Z"
    }
   },
   "execution_count": 16,
   "outputs": []
  },
  {
   "cell_type": "markdown",
   "source": [
    "Last, we call the data valuation function to estimate the values. Note that, TMC-Shapley requires re-train the classifier every time when adding one example to the training, and because we use mini-batch training here, the following code should be much **slower** than using the LR classifier defined in `Sklearn`, as shown previously.\n",
    "\n",
    "However, the benefits of using `PytorchClassifier` are\n",
    "- it offers the options to use a classifier other than the one provided by `Sklearn`\n",
    "- more importantly, it allows us to the influence function (`inf-func`) method as demonstrated in section 3.2"
   ],
   "metadata": {
    "id": "_Ake_ye4Zh8T"
   }
  },
  {
   "cell_type": "code",
   "source": [
    "dv = DataValuation(trnX, trnY_num, devX, devY_num)\n",
    "vals = dv.estimate(clf=pt_clf, method='tmc-shapley')"
   ],
   "metadata": {
    "id": "jf1BgnzpZhMt",
    "ExecuteTime": {
     "end_time": "2023-09-11T14:09:45.126617900Z",
     "start_time": "2023-09-11T14:06:50.671410400Z"
    }
   },
   "execution_count": 17,
   "outputs": [
    {
     "name": "stderr",
     "output_type": "stream",
     "text": [
      "100%|██████████| 500/500 [02:54<00:00,  2.87it/s]\n"
     ]
    }
   ]
  },
  {
   "cell_type": "markdown",
   "source": [
    "Evaluate the estimated data values using the data removal method."
   ],
   "metadata": {
    "id": "vNuAWC6Qww8b"
   }
  },
  {
   "cell_type": "code",
   "source": [
    "accs = data_removal(vals, trnX, trnY, tstX, tstY)\n",
    "\n",
    "plt.plot(range(len(accs)), accs)\n",
    "res = weighted_acc_drop(accs)\n",
    "print(\"The weighted accuracy drop is {}\".format(res))"
   ],
   "metadata": {
    "id": "91nnc7NWZ0Y_",
    "ExecuteTime": {
     "end_time": "2023-09-11T14:09:45.795088600Z",
     "start_time": "2023-09-11T14:09:45.135782500Z"
    }
   },
   "execution_count": 18,
   "outputs": [
    {
     "name": "stdout",
     "output_type": "stream",
     "text": [
      "The weighted accuracy drop is 0.02322910997340045\n"
     ]
    },
    {
     "data": {
      "text/plain": "<Figure size 640x480 with 1 Axes>",
      "image/png": "[encoded data removed]"
     },
     "metadata": {},
     "output_type": "display_data"
    }
   ]
  },
  {
   "cell_type": "markdown",
   "source": [
    "### 3.2 Influence Function\n",
    "\n",
    "With the user-defined classifiers, the way of using influence function is not much different from other data valuation methods in Valda.\n",
    "\n",
    "As you can see in the printed message when running the following code\n",
    "\n",
    "- in Valda, large values from IF mean important examples, which is different from the definition in (Koh and Liang, 2017). The only reason we choose this way to make the outputs consistent with other data valuation methods.\n",
    "- the current implementation only has the first-order gradient computation. In the future version, we will provide the option to let user choose whether they want the second-order gradient (it will be much slower, but supposed to be better in theory)"
   ],
   "metadata": {
    "id": "xxVV5Nwcw7Aw"
   }
  },
  {
   "cell_type": "code",
   "source": [
    "vals = dv.estimate(clf=pt_clf, method='inf-func')"
   ],
   "metadata": {
    "id": "yaR4sHe5whX3",
    "ExecuteTime": {
     "end_time": "2023-09-11T14:09:46.076428200Z",
     "start_time": "2023-09-11T14:09:45.787720600Z"
    }
   },
   "execution_count": 19,
   "outputs": [
    {
     "name": "stdout",
     "output_type": "stream",
     "text": [
      "Training models for IF with 20 iterations ...\n",
      "Training for high-value example detection ...\n",
      "In this implementation, large values mean important examples\n"
     ]
    }
   ]
  },
  {
   "cell_type": "markdown",
   "source": [
    "Now, let's see how the performance of IF looks like"
   ],
   "metadata": {
    "id": "2JHTWOMiipCK"
   }
  },
  {
   "cell_type": "code",
   "source": [
    "accs = data_removal(vals, trnX, trnY, tstX, tstY)\n",
    "\n",
    "plt.plot(range(len(accs)), accs)\n",
    "res = weighted_acc_drop(accs)\n",
    "print(\"The weighted accuracy drop is {}\".format(res))"
   ],
   "metadata": {
    "id": "5iDajkuXinlD",
    "ExecuteTime": {
     "end_time": "2023-09-11T14:09:46.835290500Z",
     "start_time": "2023-09-11T14:09:46.051869700Z"
    }
   },
   "execution_count": 20,
   "outputs": [
    {
     "name": "stdout",
     "output_type": "stream",
     "text": [
      "The weighted accuracy drop is 0.2561084775917672\n"
     ]
    },
    {
     "data": {
      "text/plain": "<Figure size 640x480 with 1 Axes>",
      "image/png": "[encoded data removed]"
     },
     "metadata": {},
     "output_type": "display_data"
    }
   ]
  },
  {
   "cell_type": "markdown",
   "source": [
    "### 3.3 The `PytorchClassifier` Class\n",
    "\n",
    "The class initialization function of `PytorchClassifier` takes six parameters, all of them are related to PyTorch training\n",
    "\n",
    "- `model`: the classifier defined with PyTorch\n",
    "- `optim`: an optimizer defined in PyTorch (default: Adam)\n",
    "- `loss`: a training criterion defined in PyTorch (default: CrossEntropy)\n",
    "- `epochs`: number of epochs training the classifier (default: 20)\n",
    "- `trn_batch_size`: the mini-batch size for the training set (default: 16)\n",
    "- `dev_batch_size`: the mini-batch size for the development set (default: 16)\n",
    "\n",
    "For example, if we want to use a different optimizer for training the model, here is what we can do"
   ],
   "metadata": {
    "id": "tKwffW9Hgqx3"
   }
  },
  {
   "cell_type": "code",
   "source": [
    "# Create a new optimizer\n",
    "sgd = torch.optim.SGD(model.parameters(), lr=0.1)\n",
    "\n",
    "# Repeat what we did before, with the new optimizer\n",
    "pt_clf = PytorchClassifier(model, optim=sgd, epochs=20, trn_batch_size=16, dev_batch_size=16)\n",
    "\n",
    "vals = dv.estimate(clf=pt_clf, method='inf-func')\n",
    "\n",
    "accs = data_removal(vals, trnX, trnY, tstX, tstY)\n",
    "plt.plot(range(len(accs)), accs)\n",
    "res = weighted_acc_drop(accs)\n",
    "print(\"The weighted accuracy drop is {}\".format(res))"
   ],
   "metadata": {
    "id": "GgnORgVFgu4e",
    "ExecuteTime": {
     "end_time": "2023-09-11T14:09:47.813374100Z",
     "start_time": "2023-09-11T14:09:46.829114700Z"
    }
   },
   "execution_count": 21,
   "outputs": [
    {
     "name": "stdout",
     "output_type": "stream",
     "text": [
      "Training models for IF with 20 iterations ...\n",
      "Training for high-value example detection ...\n",
      "In this implementation, large values mean important examples\n",
      "The weighted accuracy drop is 0.2545879125738163\n"
     ]
    },
    {
     "data": {
      "text/plain": "<Figure size 640x480 with 1 Axes>",
      "image/png": "[encoded data removed]"
     },
     "metadata": {},
     "output_type": "display_data"
    }
   ]
  },
  {
   "cell_type": "markdown",
   "source": [
    "## 4 Applications\n",
    "\n",
    "TODO"
   ],
   "metadata": {
    "id": "O0CtikQtGXCr"
   }
  },
  {
   "cell_type": "code",
   "source": [],
   "metadata": {
    "id": "qnVgQB_-nr83"
   },
   "execution_count": null,
   "outputs": []
  }
 ]
}
