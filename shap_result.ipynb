{
 "cells": [
  {
   "cell_type": "code",
   "execution_count": null,
   "outputs": [],
   "source": [
    "from utils import *\n",
    "import numpy as np\n",
    "import torch\n",
    "\n",
    "train_size = 1000\n",
    "train_start = 0\n",
    "train_size_batch = 200\n",
    "dev_size = 100\n",
    "test_size = 300\n",
    "np.random.seed(0)\n",
    "torch.manual_seed(0)\n",
    "\n",
    "X_train, y_train_clean, X_dev, y_dev, X_test, y_test = load_data(train_size, dev_size, test_size)\n",
    "y_train, flip_indices = flip_labels(y_train_clean, flip_fraction=0.3)\n",
    "\n",
    "cnn_accuracy_pure, cnn_accuracies_pure = cnn_tests(X_train, y_train_clean, X_dev, y_dev)\n",
    "print('CNN accuracy on clean dataset: {}'.format(cnn_accuracy_pure))\n",
    "\n",
    "logistic_accuracy_pure = logistic_test(X_train, y_train_clean, X_dev, y_dev)\n",
    "print('Logistic Regression accuracy on clean dataset: {}'.format(logistic_accuracy_pure))"
   ],
   "metadata": {
    "collapsed": false
   },
   "id": "643f551007f8b896"
  },
  {
   "cell_type": "markdown",
   "source": [
    "Merge the all indices file to the total indices file"
   ],
   "metadata": {
    "collapsed": false
   },
   "id": "c340c4211c084f89"
  },
  {
   "cell_type": "code",
   "execution_count": null,
   "id": "initial_id",
   "metadata": {
    "collapsed": true
   },
   "outputs": [],
   "source": [
    "min_indices = np.array([])\n",
    "for train_start in range(0, train_size, train_size_batch):\n",
    "    file_path = f'./data/min_indices_{str(train_start).zfill(3)}_{str(train_start+train_size_batch-1).zfill(3)}.npy'\n",
    "    if os.path.isfile(file_path):\n",
    "        old_data = np.load(file_path)\n",
    "        min_indices = np.concatenate((min_indices, old_data))\n",
    "min_indices = min_indices.astype(int)\n",
    "np.save(f'./data/min_indices_{train_size_batch}.npy', min_indices)"
   ]
  },
  {
   "cell_type": "markdown",
   "source": [
    "Calculate the confusion matrix"
   ],
   "metadata": {
    "collapsed": false
   },
   "id": "6d0ec2e9c9fef839"
  },
  {
   "cell_type": "code",
   "execution_count": null,
   "outputs": [],
   "source": [
    "confusion_matrix = create_confusion_matrix(min_indices, flip_indices, train_size)\n",
    "print(confusion_matrix)\n",
    "plot_confusion_matrix(confusion_matrix)\n",
    "\n",
    "accuracy, precision, recall, f1_score, specificity = calculate_metrics(confusion_matrix)\n",
    "\n",
    "print(f\"Accuracy: {accuracy}\")\n",
    "print(f\"Precision: {precision}\")\n",
    "print(f\"Recall: {recall}\")\n",
    "print(f\"F1 Score: {f1_score}\")\n",
    "print(f\"Specificity: {specificity}\")"
   ],
   "metadata": {
    "collapsed": false
   },
   "id": "5ef8bf53092ad7c4"
  },
  {
   "cell_type": "markdown",
   "source": [
    "Train models on the dataset with different delete ratios"
   ],
   "metadata": {
    "collapsed": false
   },
   "id": "f19bc4c4cff8cdb8"
  },
  {
   "cell_type": "code",
   "execution_count": null,
   "outputs": [],
   "source": [
    "min_indices = np.load(f'./data/min_indices_{train_size_batch}.npy')\n",
    "\n",
    "delete_ratios = [0.0, 0.2, 0.4, 0.6, 0.8, 1.0]\n",
    "\n",
    "cnn_accuracy = np.zeros(len(delete_ratios))\n",
    "logistic_accuracy = np.zeros(len(delete_ratios))\n",
    "cnn_accuracies = [None] * len(delete_ratios)\n",
    "\n",
    "for i, delete_ratio in enumerate(delete_ratios):\n",
    "    print('Delete ratio: {}'.format(delete_ratio))\n",
    "\n",
    "    X_train_cleaned, y_train_cleaned = delete_data(X_train, y_train, min_indices, delete_ratio)\n",
    "\n",
    "    cnn_accuracy[i], cnn_accuracies[i] = cnn_tests(X_train_cleaned, y_train_cleaned, X_test, y_test)\n",
    "    logistic_accuracy[i] = logistic_test(X_train_cleaned, y_train_cleaned, X_test, y_test)\n",
    "\n",
    "print('CNN accuracies: {}'.format(cnn_accuracy))\n",
    "print('Logistic Regression accuracies: {}'.format(logistic_accuracy))"
   ],
   "metadata": {
    "collapsed": false
   },
   "id": "d875f522df0c4fb9"
  },
  {
   "cell_type": "markdown",
   "source": [
    "Plot the accuracy vs delete ratio"
   ],
   "metadata": {
    "collapsed": false
   },
   "id": "26e84959140cf83e"
  },
  {
   "cell_type": "code",
   "execution_count": null,
   "outputs": [],
   "source": [
    "visualize_accuracy(delete_ratios, cnn_accuracies, logistic_accuracy, cnn_accuracies_pure, logistic_accuracy_pure)"
   ],
   "metadata": {
    "collapsed": false
   },
   "id": "676d60dd75707011"
  }
 ],
 "metadata": {
  "kernelspec": {
   "display_name": "Python 3",
   "language": "python",
   "name": "python3"
  },
  "language_info": {
   "codemirror_mode": {
    "name": "ipython",
    "version": 2
   },
   "file_extension": ".py",
   "mimetype": "text/x-python",
   "name": "python",
   "nbconvert_exporter": "python",
   "pygments_lexer": "ipython2",
   "version": "2.7.6"
  }
 },
 "nbformat": 4,
 "nbformat_minor": 5
}
