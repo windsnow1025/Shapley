{
 "cells": [
  {
   "cell_type": "code",
   "execution_count": 2,
   "outputs": [],
   "source": [
    "from utils import *\n",
    "import numpy as np\n",
    "import torch\n",
    "\n",
    "train_size = 1000\n",
    "train_start = 0\n",
    "train_size_batch = 200\n",
    "dev_size = 100\n",
    "test_size = 300\n",
    "np.random.seed(0)\n",
    "torch.manual_seed(0)\n",
    "\n",
    "X_train, y_train_clean, X_dev, y_dev, X_test, y_test = load_data(train_size, dev_size, test_size)\n",
    "y_train, flip_indices = flip_labels(y_train_clean, flip_fraction=0.3)"
   ],
   "metadata": {
    "collapsed": false,
    "ExecuteTime": {
     "end_time": "2023-09-12T05:42:37.883974Z",
     "start_time": "2023-09-12T05:42:37.537780500Z"
    }
   },
   "id": "643f551007f8b896"
  },
  {
   "cell_type": "markdown",
   "source": [
    "Test the models on clean dataset"
   ],
   "metadata": {
    "collapsed": false
   },
   "id": "6c04ea9252d583cc"
  },
  {
   "cell_type": "code",
   "execution_count": 3,
   "outputs": [
    {
     "name": "stdout",
     "output_type": "stream",
     "text": [
      "Accuracy of CNN model on cuda: 0.89\n",
      "Accuracy of CNN model on cuda: 0.88\n",
      "Accuracy of CNN model on cuda: 0.89\n",
      "Accuracy of CNN model on cuda: 0.93\n",
      "Accuracy of CNN model on cuda: 0.85\n",
      "Accuracy of CNN model on cuda: 0.91\n",
      "Accuracy of CNN model on cuda: 0.86\n",
      "Accuracy of CNN model on cuda: 0.90\n",
      "CNN accuracy on clean dataset: 0.8887499999999999\n",
      "Accuracy of Logistic Regression model: 0.82\n",
      "Logistic Regression accuracy on clean dataset: 0.82\n"
     ]
    }
   ],
   "source": [
    "cnn_accuracy_pure, cnn_accuracies_pure = cnn_tests(X_train, y_train_clean, X_dev, y_dev)\n",
    "print('CNN accuracy on clean dataset: {}'.format(cnn_accuracy_pure))\n",
    "\n",
    "logistic_accuracy_pure = logistic_test(X_train, y_train_clean, X_dev, y_dev)\n",
    "print('Logistic Regression accuracy on clean dataset: {}'.format(logistic_accuracy_pure))"
   ],
   "metadata": {
    "collapsed": false,
    "ExecuteTime": {
     "end_time": "2023-09-12T05:42:49.690229300Z",
     "start_time": "2023-09-12T05:42:39.066627700Z"
    }
   },
   "id": "dcc2297b13dc4265"
  },
  {
   "cell_type": "markdown",
   "source": [
    "Merge the all indices file to the total indices file"
   ],
   "metadata": {
    "collapsed": false
   },
   "id": "c340c4211c084f89"
  },
  {
   "cell_type": "code",
   "execution_count": 4,
   "id": "initial_id",
   "metadata": {
    "collapsed": true,
    "ExecuteTime": {
     "end_time": "2023-09-12T05:43:04.813287400Z",
     "start_time": "2023-09-12T05:43:04.792956400Z"
    }
   },
   "outputs": [],
   "source": [
    "min_indices = np.array([])\n",
    "for train_start in range(0, train_size, train_size_batch):\n",
    "    file_path = f'./data/min_indices_{str(train_start).zfill(3)}_{str(train_start+train_size_batch-1).zfill(3)}.npy'\n",
    "    if os.path.isfile(file_path):\n",
    "        old_data = np.load(file_path)\n",
    "        min_indices = np.concatenate((min_indices, old_data))\n",
    "min_indices = min_indices.astype(int)\n",
    "np.save(f'./data/min_indices_{train_size_batch}.npy', min_indices)"
   ]
  },
  {
   "cell_type": "markdown",
   "source": [
    "Calculate the confusion matrix"
   ],
   "metadata": {
    "collapsed": false
   },
   "id": "6d0ec2e9c9fef839"
  },
  {
   "cell_type": "code",
   "execution_count": 5,
   "outputs": [
    {
     "name": "stdout",
     "output_type": "stream",
     "text": [
      "[[ 82.  22.]\n",
      " [218. 678.]]\n"
     ]
    },
    {
     "data": {
      "text/plain": "<Figure size 640x480 with 1 Axes>",
      "image/png": "[encoded data removed]"
     },
     "metadata": {},
     "output_type": "display_data"
    },
    {
     "name": "stdout",
     "output_type": "stream",
     "text": [
      "Accuracy: 0.76\n",
      "Precision: 0.7884615384615384\n",
      "Recall: 0.2733333333333333\n",
      "F1 Score: 0.4059405940594059\n",
      "Specificity: 0.9685714285714285\n"
     ]
    }
   ],
   "source": [
    "confusion_matrix = create_confusion_matrix(min_indices, flip_indices, train_size)\n",
    "print(confusion_matrix)\n",
    "plot_confusion_matrix(confusion_matrix)\n",
    "\n",
    "accuracy, precision, recall, f1_score, specificity = calculate_metrics(confusion_matrix)\n",
    "\n",
    "print(f\"Accuracy: {accuracy}\")\n",
    "print(f\"Precision: {precision}\")\n",
    "print(f\"Recall: {recall}\")\n",
    "print(f\"F1 Score: {f1_score}\")\n",
    "print(f\"Specificity: {specificity}\")"
   ],
   "metadata": {
    "collapsed": false,
    "ExecuteTime": {
     "end_time": "2023-09-12T05:43:06.133477Z",
     "start_time": "2023-09-12T05:43:05.943252800Z"
    }
   },
   "id": "5ef8bf53092ad7c4"
  },
  {
   "cell_type": "markdown",
   "source": [
    "Train models on the dataset with different delete ratios"
   ],
   "metadata": {
    "collapsed": false
   },
   "id": "f19bc4c4cff8cdb8"
  },
  {
   "cell_type": "code",
   "execution_count": 6,
   "outputs": [
    {
     "name": "stdout",
     "output_type": "stream",
     "text": [
      "Delete ratio: 0.0\n",
      "Accuracy of CNN model on cuda: 0.66\n",
      "Accuracy of CNN model on cuda: 0.80\n",
      "Accuracy of CNN model on cuda: 0.81\n",
      "Accuracy of CNN model on cuda: 0.76\n",
      "Accuracy of CNN model on cuda: 0.76\n",
      "Accuracy of CNN model on cuda: 0.77\n",
      "Accuracy of CNN model on cuda: 0.73\n",
      "Accuracy of CNN model on cuda: 0.72\n",
      "Accuracy of Logistic Regression model: 0.46\n",
      "Delete ratio: 0.2\n",
      "Accuracy of CNN model on cuda: 0.69\n",
      "Accuracy of CNN model on cuda: 0.74\n",
      "Accuracy of CNN model on cuda: 0.78\n",
      "Accuracy of CNN model on cuda: 0.73\n",
      "Accuracy of CNN model on cuda: 0.76\n",
      "Accuracy of CNN model on cuda: 0.75\n",
      "Accuracy of CNN model on cuda: 0.75\n",
      "Accuracy of CNN model on cuda: 0.78\n",
      "Accuracy of Logistic Regression model: 0.49\n",
      "Delete ratio: 0.4\n",
      "Accuracy of CNN model on cuda: 0.72\n",
      "Accuracy of CNN model on cuda: 0.77\n",
      "Accuracy of CNN model on cuda: 0.73\n",
      "Accuracy of CNN model on cuda: 0.68\n",
      "Accuracy of CNN model on cuda: 0.78\n",
      "Accuracy of CNN model on cuda: 0.70\n",
      "Accuracy of CNN model on cuda: 0.72\n",
      "Accuracy of CNN model on cuda: 0.78\n",
      "Accuracy of Logistic Regression model: 0.52\n",
      "Delete ratio: 0.6\n",
      "Accuracy of CNN model on cuda: 0.75\n",
      "Accuracy of CNN model on cuda: 0.75\n",
      "Accuracy of CNN model on cuda: 0.76\n",
      "Accuracy of CNN model on cuda: 0.71\n",
      "Accuracy of CNN model on cuda: 0.74\n",
      "Accuracy of CNN model on cuda: 0.75\n",
      "Accuracy of CNN model on cuda: 0.77\n",
      "Accuracy of CNN model on cuda: 0.69\n",
      "Accuracy of Logistic Regression model: 0.52\n",
      "Delete ratio: 0.8\n",
      "Accuracy of CNN model on cuda: 0.77\n",
      "Accuracy of CNN model on cuda: 0.72\n",
      "Accuracy of CNN model on cuda: 0.71\n",
      "Accuracy of CNN model on cuda: 0.65\n",
      "Accuracy of CNN model on cuda: 0.77\n",
      "Accuracy of CNN model on cuda: 0.81\n",
      "Accuracy of CNN model on cuda: 0.76\n",
      "Accuracy of CNN model on cuda: 0.73\n"
     ]
    },
    {
     "name": "stderr",
     "output_type": "stream",
     "text": [
      "C:\\Users\\windsnow1024\\AppData\\Local\\Programs\\Python\\Python38\\lib\\site-packages\\sklearn\\linear_model\\_logistic.py:460: ConvergenceWarning: lbfgs failed to converge (status=1):\n",
      "STOP: TOTAL NO. of ITERATIONS REACHED LIMIT.\n",
      "\n",
      "Increase the number of iterations (max_iter) or scale the data as shown in:\n",
      "    https://scikit-learn.org/stable/modules/preprocessing.html\n",
      "Please also refer to the documentation for alternative solver options:\n",
      "    https://scikit-learn.org/stable/modules/linear_model.html#logistic-regression\n",
      "  n_iter_i = _check_optimize_result(\n"
     ]
    },
    {
     "name": "stdout",
     "output_type": "stream",
     "text": [
      "Accuracy of Logistic Regression model: 0.50\n",
      "Delete ratio: 1.0\n",
      "Accuracy of CNN model on cuda: 0.74\n",
      "Accuracy of CNN model on cuda: 0.79\n",
      "Accuracy of CNN model on cuda: 0.73\n",
      "Accuracy of CNN model on cuda: 0.70\n",
      "Accuracy of CNN model on cuda: 0.74\n",
      "Accuracy of CNN model on cuda: 0.78\n",
      "Accuracy of CNN model on cuda: 0.77\n",
      "Accuracy of CNN model on cuda: 0.73\n",
      "Accuracy of Logistic Regression model: 0.53\n",
      "CNN accuracies: [0.75125    0.74666667 0.73541667 0.73958333 0.73875    0.74791667]\n",
      "Logistic Regression accuracies: [0.46       0.49       0.52       0.51666667 0.5        0.53      ]\n"
     ]
    }
   ],
   "source": [
    "min_indices = np.load(f'./data/min_indices_{train_size_batch}.npy')\n",
    "\n",
    "delete_ratios = [0.0, 0.2, 0.4, 0.6, 0.8, 1.0]\n",
    "\n",
    "cnn_accuracy = np.zeros(len(delete_ratios))\n",
    "logistic_accuracy = np.zeros(len(delete_ratios))\n",
    "cnn_accuracies = [None] * len(delete_ratios)\n",
    "\n",
    "for i, delete_ratio in enumerate(delete_ratios):\n",
    "    print('Delete ratio: {}'.format(delete_ratio))\n",
    "\n",
    "    X_train_cleaned, y_train_cleaned = delete_data(X_train, y_train, min_indices, delete_ratio)\n",
    "\n",
    "    cnn_accuracy[i], cnn_accuracies[i] = cnn_tests(X_train_cleaned, y_train_cleaned, X_test, y_test)\n",
    "    logistic_accuracy[i] = logistic_test(X_train_cleaned, y_train_cleaned, X_test, y_test)\n",
    "\n",
    "print('CNN accuracies: {}'.format(cnn_accuracy))\n",
    "print('Logistic Regression accuracies: {}'.format(logistic_accuracy))"
   ],
   "metadata": {
    "collapsed": false,
    "ExecuteTime": {
     "end_time": "2023-09-12T05:43:48.180499500Z",
     "start_time": "2023-09-12T05:43:11.523187400Z"
    }
   },
   "id": "d875f522df0c4fb9"
  },
  {
   "cell_type": "markdown",
   "source": [
    "Plot the accuracy vs delete ratio"
   ],
   "metadata": {
    "collapsed": false
   },
   "id": "26e84959140cf83e"
  },
  {
   "cell_type": "code",
   "execution_count": 7,
   "outputs": [
    {
     "data": {
      "text/plain": "<Figure size 640x480 with 1 Axes>",
      "image/png": "[encoded data removed]"
     },
     "metadata": {},
     "output_type": "display_data"
    }
   ],
   "source": [
    "visualize_accuracy(delete_ratios, cnn_accuracies, logistic_accuracy, cnn_accuracies_pure, logistic_accuracy_pure)"
   ],
   "metadata": {
    "collapsed": false,
    "ExecuteTime": {
     "end_time": "2023-09-12T05:43:48.587939800Z",
     "start_time": "2023-09-12T05:43:48.175647300Z"
    }
   },
   "id": "676d60dd75707011"
  },
  {
   "cell_type": "code",
   "execution_count": null,
   "outputs": [],
   "source": [],
   "metadata": {
    "collapsed": false
   },
   "id": "72719098fbaca264"
  }
 ],
 "metadata": {
  "kernelspec": {
   "display_name": "Python 3",
   "language": "python",
   "name": "python3"
  },
  "language_info": {
   "codemirror_mode": {
    "name": "ipython",
    "version": 2
   },
   "file_extension": ".py",
   "mimetype": "text/x-python",
   "name": "python",
   "nbconvert_exporter": "python",
   "pygments_lexer": "ipython2",
   "version": "2.7.6"
  }
 },
 "nbformat": 4,
 "nbformat_minor": 5
}
