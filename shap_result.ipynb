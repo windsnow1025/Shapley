{
 "cells": [
  {
   "cell_type": "code",
   "execution_count": 21,
   "outputs": [],
   "source": [
    "from utils import *\n",
    "import numpy as np\n",
    "import torch\n",
    "\n",
    "train_size = 1000\n",
    "train_start = 0\n",
    "train_size_batch = 200\n",
    "dev_size = 200\n",
    "test_size = 300\n",
    "np.random.seed(0)\n",
    "torch.manual_seed(0)\n",
    "\n",
    "X_train, y_train_clean, X_dev, y_dev, X_test, y_test = load_data(train_size, dev_size, test_size)\n",
    "y_train, flip_indices = flip_labels(y_train_clean, flip_fraction=0.3)"
   ],
   "metadata": {
    "collapsed": false,
    "ExecuteTime": {
     "end_time": "2023-09-12T12:53:41.408822500Z",
     "start_time": "2023-09-12T12:53:40.967490700Z"
    }
   },
   "id": "643f551007f8b896"
  },
  {
   "cell_type": "markdown",
   "source": [
    "Test the models on clean dataset"
   ],
   "metadata": {
    "collapsed": false
   },
   "id": "6c04ea9252d583cc"
  },
  {
   "cell_type": "code",
   "execution_count": 22,
   "outputs": [
    {
     "name": "stdout",
     "output_type": "stream",
     "text": [
      "Accuracy of CNN model on cuda: 0.89\n",
      "Accuracy of CNN model on cuda: 0.88\n",
      "Accuracy of CNN model on cuda: 0.89\n",
      "Accuracy of CNN model on cuda: 0.91\n",
      "Accuracy of CNN model on cuda: 0.90\n",
      "Accuracy of CNN model on cuda: 0.91\n",
      "Accuracy of CNN model on cuda: 0.88\n",
      "Accuracy of CNN model on cuda: 0.90\n",
      "CNN accuracy on clean dataset: 0.8931250000000001\n",
      "Accuracy of Logistic Regression model: 0.80\n",
      "Logistic Regression accuracy on clean dataset: 0.795\n"
     ]
    }
   ],
   "source": [
    "cnn_accuracy_pure, cnn_accuracies_pure = cnn_tests(X_train, y_train_clean, X_dev, y_dev)\n",
    "print('CNN accuracy on clean dataset: {}'.format(cnn_accuracy_pure))\n",
    "\n",
    "logistic_accuracy_pure = logistic_test(X_train, y_train_clean, X_dev, y_dev)\n",
    "print('Logistic Regression accuracy on clean dataset: {}'.format(logistic_accuracy_pure))"
   ],
   "metadata": {
    "collapsed": false,
    "ExecuteTime": {
     "end_time": "2023-09-12T12:53:46.050386800Z",
     "start_time": "2023-09-12T12:53:41.412783300Z"
    }
   },
   "id": "dcc2297b13dc4265"
  },
  {
   "cell_type": "markdown",
   "source": [
    "Merge the all indices file to the total indices file"
   ],
   "metadata": {
    "collapsed": false
   },
   "id": "c340c4211c084f89"
  },
  {
   "cell_type": "code",
   "execution_count": 23,
   "id": "initial_id",
   "metadata": {
    "collapsed": true,
    "ExecuteTime": {
     "end_time": "2023-09-12T12:53:46.070711Z",
     "start_time": "2023-09-12T12:53:46.054626800Z"
    }
   },
   "outputs": [],
   "source": [
    "min_indices = np.array([])\n",
    "for train_start in range(0, train_size, train_size_batch):\n",
    "    file_path = f'./data/min_indices_{str(train_start).zfill(3)}-{str(train_start+train_size_batch-1).zfill(3)}_{dev_size}.npy'\n",
    "    if os.path.isfile(file_path):\n",
    "        old_data = np.load(file_path)\n",
    "        min_indices = np.concatenate((min_indices, old_data))\n",
    "min_indices = min_indices.astype(int)\n",
    "np.save(f'./data/min_indices_{train_size_batch}_{dev_size}.npy', min_indices)"
   ]
  },
  {
   "cell_type": "markdown",
   "source": [
    "Calculate the confusion matrix"
   ],
   "metadata": {
    "collapsed": false
   },
   "id": "6d0ec2e9c9fef839"
  },
  {
   "cell_type": "code",
   "execution_count": 24,
   "outputs": [
    {
     "name": "stdout",
     "output_type": "stream",
     "text": [
      "[[  0.   0.]\n",
      " [300. 700.]]\n"
     ]
    },
    {
     "data": {
      "text/plain": "<Figure size 640x480 with 1 Axes>",
      "image/png": "[encoded data removed]"
     },
     "metadata": {},
     "output_type": "display_data"
    },
    {
     "name": "stdout",
     "output_type": "stream",
     "text": [
      "Accuracy: 0.7\n",
      "Precision: nan\n",
      "Recall: 0.0\n",
      "F1 Score: nan\n",
      "Specificity: 1.0\n"
     ]
    },
    {
     "name": "stderr",
     "output_type": "stream",
     "text": [
      "C:\\windsnow1024\\GitHub\\Shapley\\utils.py:304: RuntimeWarning: invalid value encountered in scalar divide\n",
      "  precision = TP / (TP + FP)\n"
     ]
    }
   ],
   "source": [
    "confusion_matrix = create_confusion_matrix(min_indices, flip_indices, train_size)\n",
    "print(confusion_matrix)\n",
    "plot_confusion_matrix(confusion_matrix)\n",
    "\n",
    "accuracy, precision, recall, f1_score, specificity = calculate_metrics(confusion_matrix)\n",
    "\n",
    "print(f\"Accuracy: {accuracy}\")\n",
    "print(f\"Precision: {precision}\")\n",
    "print(f\"Recall: {recall}\")\n",
    "print(f\"F1 Score: {f1_score}\")\n",
    "print(f\"Specificity: {specificity}\")"
   ],
   "metadata": {
    "collapsed": false,
    "ExecuteTime": {
     "end_time": "2023-09-12T12:53:46.271741900Z",
     "start_time": "2023-09-12T12:53:46.076484900Z"
    }
   },
   "id": "5ef8bf53092ad7c4"
  },
  {
   "cell_type": "markdown",
   "source": [
    "Train models on the dataset with different delete ratios"
   ],
   "metadata": {
    "collapsed": false
   },
   "id": "f19bc4c4cff8cdb8"
  },
  {
   "cell_type": "code",
   "execution_count": 25,
   "outputs": [
    {
     "ename": "FileNotFoundError",
     "evalue": "[Errno 2] No such file or directory: './data/min_indices_200.npy'",
     "output_type": "error",
     "traceback": [
      "\u001B[1;31m---------------------------------------------------------------------------\u001B[0m",
      "\u001B[1;31mFileNotFoundError\u001B[0m                         Traceback (most recent call last)",
      "Cell \u001B[1;32mIn[25], line 1\u001B[0m\n\u001B[1;32m----> 1\u001B[0m min_indices \u001B[38;5;241m=\u001B[39m \u001B[43mnp\u001B[49m\u001B[38;5;241;43m.\u001B[39;49m\u001B[43mload\u001B[49m\u001B[43m(\u001B[49m\u001B[38;5;124;43mf\u001B[39;49m\u001B[38;5;124;43m'\u001B[39;49m\u001B[38;5;124;43m./data/min_indices_\u001B[39;49m\u001B[38;5;132;43;01m{\u001B[39;49;00m\u001B[43mtrain_size_batch\u001B[49m\u001B[38;5;132;43;01m}\u001B[39;49;00m\u001B[38;5;124;43m.npy\u001B[39;49m\u001B[38;5;124;43m'\u001B[39;49m\u001B[43m)\u001B[49m\n\u001B[0;32m      3\u001B[0m delete_ratios \u001B[38;5;241m=\u001B[39m [\u001B[38;5;241m0.0\u001B[39m, \u001B[38;5;241m0.2\u001B[39m, \u001B[38;5;241m0.4\u001B[39m, \u001B[38;5;241m0.6\u001B[39m, \u001B[38;5;241m0.8\u001B[39m, \u001B[38;5;241m1.0\u001B[39m]\n\u001B[0;32m      5\u001B[0m cnn_accuracy \u001B[38;5;241m=\u001B[39m np\u001B[38;5;241m.\u001B[39mzeros(\u001B[38;5;28mlen\u001B[39m(delete_ratios))\n",
      "File \u001B[1;32m~\\AppData\\Local\\Programs\\Python\\Python38\\lib\\site-packages\\numpy\\lib\\npyio.py:405\u001B[0m, in \u001B[0;36mload\u001B[1;34m(file, mmap_mode, allow_pickle, fix_imports, encoding, max_header_size)\u001B[0m\n\u001B[0;32m    403\u001B[0m     own_fid \u001B[38;5;241m=\u001B[39m \u001B[38;5;28;01mFalse\u001B[39;00m\n\u001B[0;32m    404\u001B[0m \u001B[38;5;28;01melse\u001B[39;00m:\n\u001B[1;32m--> 405\u001B[0m     fid \u001B[38;5;241m=\u001B[39m stack\u001B[38;5;241m.\u001B[39menter_context(\u001B[38;5;28;43mopen\u001B[39;49m\u001B[43m(\u001B[49m\u001B[43mos_fspath\u001B[49m\u001B[43m(\u001B[49m\u001B[43mfile\u001B[49m\u001B[43m)\u001B[49m\u001B[43m,\u001B[49m\u001B[43m \u001B[49m\u001B[38;5;124;43m\"\u001B[39;49m\u001B[38;5;124;43mrb\u001B[39;49m\u001B[38;5;124;43m\"\u001B[39;49m\u001B[43m)\u001B[49m)\n\u001B[0;32m    406\u001B[0m     own_fid \u001B[38;5;241m=\u001B[39m \u001B[38;5;28;01mTrue\u001B[39;00m\n\u001B[0;32m    408\u001B[0m \u001B[38;5;66;03m# Code to distinguish from NumPy binary files and pickles.\u001B[39;00m\n",
      "\u001B[1;31mFileNotFoundError\u001B[0m: [Errno 2] No such file or directory: './data/min_indices_200.npy'"
     ]
    }
   ],
   "source": [
    "min_indices = np.load(f'./data/min_indices_{train_size_batch}.npy')\n",
    "\n",
    "delete_ratios = [0.0, 0.2, 0.4, 0.6, 0.8, 1.0]\n",
    "\n",
    "cnn_accuracy = np.zeros(len(delete_ratios))\n",
    "logistic_accuracy = np.zeros(len(delete_ratios))\n",
    "cnn_accuracies = [None] * len(delete_ratios)\n",
    "\n",
    "for i, delete_ratio in enumerate(delete_ratios):\n",
    "    print('Delete ratio: {}'.format(delete_ratio))\n",
    "\n",
    "    X_train_cleaned, y_train_cleaned = delete_data(X_train, y_train, min_indices, delete_ratio)\n",
    "\n",
    "    cnn_accuracy[i], cnn_accuracies[i] = cnn_tests(X_train_cleaned, y_train_cleaned, X_test, y_test, runs=64)\n",
    "    logistic_accuracy[i] = logistic_test(X_train_cleaned, y_train_cleaned, X_test, y_test)\n",
    "\n",
    "print('CNN accuracies: {}'.format(cnn_accuracy))\n",
    "print('Logistic Regression accuracies: {}'.format(logistic_accuracy))"
   ],
   "metadata": {
    "collapsed": false,
    "ExecuteTime": {
     "end_time": "2023-09-12T12:53:48.194226500Z",
     "start_time": "2023-09-12T12:53:46.280624100Z"
    }
   },
   "id": "d875f522df0c4fb9"
  },
  {
   "cell_type": "markdown",
   "source": [
    "Plot the accuracy vs delete ratio"
   ],
   "metadata": {
    "collapsed": false
   },
   "id": "26e84959140cf83e"
  },
  {
   "cell_type": "code",
   "execution_count": null,
   "outputs": [],
   "source": [
    "visualize_accuracy(delete_ratios, cnn_accuracies, logistic_accuracy, cnn_accuracies_pure, logistic_accuracy_pure)"
   ],
   "metadata": {
    "collapsed": false,
    "ExecuteTime": {
     "start_time": "2023-09-12T12:53:48.204279900Z"
    }
   },
   "id": "676d60dd75707011"
  },
  {
   "cell_type": "code",
   "execution_count": null,
   "outputs": [],
   "source": [],
   "metadata": {
    "collapsed": false,
    "ExecuteTime": {
     "end_time": "2023-09-12T12:53:48.210792800Z",
     "start_time": "2023-09-12T12:53:48.204279900Z"
    }
   },
   "id": "72719098fbaca264"
  }
 ],
 "metadata": {
  "kernelspec": {
   "display_name": "Python 3",
   "language": "python",
   "name": "python3"
  },
  "language_info": {
   "codemirror_mode": {
    "name": "ipython",
    "version": 2
   },
   "file_extension": ".py",
   "mimetype": "text/x-python",
   "name": "python",
   "nbconvert_exporter": "python",
   "pygments_lexer": "ipython2",
   "version": "2.7.6"
  }
 },
 "nbformat": 4,
 "nbformat_minor": 5
}
