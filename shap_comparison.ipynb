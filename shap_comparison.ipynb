{
 "cells": [
  {
   "cell_type": "code",
   "execution_count": 6,
   "id": "initial_id",
   "metadata": {
    "collapsed": true,
    "ExecuteTime": {
     "end_time": "2023-09-13T05:48:08.064638600Z",
     "start_time": "2023-09-13T05:48:07.551416500Z"
    }
   },
   "outputs": [],
   "source": [
    "from utils import *\n",
    "import matplotlib.pyplot as plt\n",
    "import numpy as np\n",
    "import time\n",
    "import torch\n",
    "from valda.valuation import DataValuation\n",
    "\n",
    "train_size = 1000\n",
    "train_start = 0\n",
    "train_size_batch = 200\n",
    "dev_size = 200\n",
    "test_size = 1000\n",
    "np.random.seed(0)\n",
    "torch.manual_seed(0)\n",
    "\n",
    "# Load data\n",
    "X_train, y_train_clean, X_dev, y_dev, X_test, y_test = load_data(train_size, dev_size, test_size)\n",
    "y_train, flip_indices = flip_labels(y_train_clean, flip_fraction=0.3)\n",
    "\n",
    "# Create a batch of training data\n",
    "X_train_batch = X_train[train_start:train_start+train_size_batch]\n",
    "y_train_batch = y_train[train_start:train_start+train_size_batch]\n",
    "\n",
    "# Define a DataValuation instance\n",
    "dv = DataValuation(X_train_batch, y_train_batch, X_dev, y_dev)"
   ]
  },
  {
   "cell_type": "markdown",
   "source": [
    "Run with the default setting:\n",
    "1. Logistic regression as the classifier\n",
    "2. Prediction accuracy as the value measurement"
   ],
   "metadata": {
    "collapsed": false
   },
   "id": "91d1c0dffa6177dc"
  },
  {
   "cell_type": "code",
   "execution_count": 7,
   "outputs": [
    {
     "name": "stderr",
     "output_type": "stream",
     "text": [
      "100%|██████████| 200/200 [00:24<00:00,  8.04it/s]"
     ]
    },
    {
     "name": "stdout",
     "output_type": "stream",
     "text": [
      "Time elapsed: 24.93 seconds\n"
     ]
    },
    {
     "name": "stderr",
     "output_type": "stream",
     "text": [
      "\n"
     ]
    }
   ],
   "source": [
    "start_time = time.time()\n",
    "vals_loo = dv.estimate(method=\"loo\")\n",
    "end_time = time.time()\n",
    "time_loo = end_time - start_time\n",
    "print(\"Time elapsed: {:.2f} seconds\".format(time_loo))"
   ],
   "metadata": {
    "collapsed": false,
    "ExecuteTime": {
     "end_time": "2023-09-13T05:48:33.020548800Z",
     "start_time": "2023-09-13T05:48:08.069655500Z"
    }
   },
   "id": "e171e8d3dd53f7c9"
  },
  {
   "cell_type": "code",
   "execution_count": null,
   "outputs": [
    {
     "name": "stderr",
     "output_type": "stream",
     "text": [
      " 97%|█████████▋| 483/500 [15:00<00:39,  2.35s/it]"
     ]
    }
   ],
   "source": [
    "start_time = time.time()\n",
    "vals_tmc = dv.estimate(method=\"tmc-shapley\")\n",
    "end_time = time.time()\n",
    "time_tmc = end_time - start_time\n",
    "print(\"Time elapsed: {:.2f} seconds\".format(time_tmc))"
   ],
   "metadata": {
    "collapsed": false,
    "is_executing": true,
    "ExecuteTime": {
     "start_time": "2023-09-13T05:48:33.029737100Z"
    }
   },
   "id": "f2b8f735e2f2647a"
  },
  {
   "cell_type": "code",
   "execution_count": null,
   "outputs": [],
   "source": [
    "start_time = time.time()\n",
    "vals_beta = dv.estimate(method=\"beta-shapley\")\n",
    "end_time = time.time()\n",
    "time_beta = end_time - start_time\n",
    "print(\"Time elapsed: {:.2f} seconds\".format(time_beta))"
   ],
   "metadata": {
    "collapsed": false,
    "is_executing": true
   },
   "id": "5b455a82cb540846"
  },
  {
   "cell_type": "code",
   "execution_count": null,
   "outputs": [],
   "source": [
    "start_time = time.time()\n",
    "vals_cs = dv.estimate(method=\"cs-shapley\")\n",
    "end_time = time.time()\n",
    "time_cs = end_time - start_time\n",
    "print(\"Time elapsed: {:.2f} seconds\".format(time_cs))"
   ],
   "metadata": {
    "collapsed": false,
    "is_executing": true
   },
   "id": "99279a5d7f98a1a8"
  },
  {
   "cell_type": "markdown",
   "source": [
    "Save vals and time"
   ],
   "metadata": {
    "collapsed": false
   },
   "id": "ef0646c48b95b5d9"
  },
  {
   "cell_type": "code",
   "execution_count": null,
   "outputs": [],
   "source": [
    "np.save('data/vals_time/vals_loo.npy', vals_loo)\n",
    "np.save('data/vals_time/vals_tmc.npy', vals_tmc)\n",
    "np.save('data/vals_time/vals_beta.npy', vals_beta)\n",
    "np.save('data/vals_time/vals_cs.npy', vals_cs)\n",
    "np.save('data/vals_time/time_loo.npy', time_loo)\n",
    "np.save('data/vals_time/time_tmc.npy', time_tmc)\n",
    "np.save('data/vals_time/time_beta.npy', time_beta)\n",
    "np.save('data/vals_time/time_cs.npy', time_cs)"
   ],
   "metadata": {
    "collapsed": false,
    "is_executing": true
   },
   "id": "5c20cedf1d276e5f"
  },
  {
   "cell_type": "markdown",
   "source": [
    "Load vals and time"
   ],
   "metadata": {
    "collapsed": false
   },
   "id": "ff1e3c0bf8edcc1e"
  },
  {
   "cell_type": "code",
   "execution_count": null,
   "outputs": [],
   "source": [
    "vals_loo = np.load('data/vals_time/vals_loo.npy', allow_pickle=True)\n",
    "vals_tmc = np.load('data/vals_time/vals_tmc.npy', allow_pickle=True)\n",
    "vals_beta = np.load('data/vals_time/vals_beta.npy', allow_pickle=True)\n",
    "vals_cs = np.load('data/vals_time/vals_cs.npy', allow_pickle=True)\n",
    "time_loo = np.load('data/vals_time/time_loo.npy', allow_pickle=True)\n",
    "time_tmc = np.load('data/vals_time/time_tmc.npy', allow_pickle=True)\n",
    "time_beta = np.load('data/vals_time/time_beta.npy', allow_pickle=True)\n",
    "time_cs = np.load('data/vals_time/time_cs.npy', allow_pickle=True)\n",
    "\n",
    "# To dictionary\n",
    "vals_loo = vals_loo.item()\n",
    "vals_tmc = vals_tmc.item()\n",
    "vals_beta = vals_beta.item()\n",
    "vals_cs = vals_cs.item()"
   ],
   "metadata": {
    "collapsed": false,
    "is_executing": true
   },
   "id": "84e68b0f9e12f824"
  },
  {
   "cell_type": "markdown",
   "source": [
    "Create vals_rand dictionary"
   ],
   "metadata": {
    "collapsed": false
   },
   "id": "5b73ad2a731b0a97"
  },
  {
   "cell_type": "code",
   "execution_count": null,
   "outputs": [],
   "source": [
    "vals_rand = {}\n",
    "for i in range(train_size_batch):\n",
    "    vals_rand[i] = np.random.rand()\n",
    "time_rand = 0"
   ],
   "metadata": {
    "collapsed": false,
    "is_executing": true
   },
   "id": "48b657526fdb0678"
  },
  {
   "cell_type": "markdown",
   "source": [
    "Plot the results"
   ],
   "metadata": {
    "collapsed": false
   },
   "id": "ccb033e5b1704b54"
  },
  {
   "cell_type": "code",
   "execution_count": null,
   "outputs": [],
   "source": [
    "# Ascending\n",
    "acc_rand_asc, acc_loo_asc, acc_tmc_asc, acc_beta_asc, acc_cs_asc, _ = shap_comparison(\n",
    "    X_train_batch, y_train_batch, X_test, y_test,\n",
    "    remove_high_value=False,\n",
    "    vals_rand=vals_rand,\n",
    "    vals_loo=vals_loo,\n",
    "    vals_tmc=vals_tmc,\n",
    "    vals_beta=vals_beta,\n",
    "    vals_cs=vals_cs)"
   ],
   "metadata": {
    "collapsed": false,
    "is_executing": true
   },
   "id": "a9295e62d96436a4"
  },
  {
   "cell_type": "code",
   "execution_count": null,
   "outputs": [],
   "source": [
    "# Descending\n",
    "acc_rand_des, acc_loo_des, acc_tmc_des, acc_beta_des, acc_cs_des, _ = shap_comparison(\n",
    "    X_train_batch, y_train_batch, X_test, y_test,\n",
    "    remove_high_value=True,\n",
    "    vals_rand=vals_rand,\n",
    "    vals_loo=vals_loo,\n",
    "    vals_tmc=vals_tmc,\n",
    "    vals_beta=vals_beta,\n",
    "    vals_cs=vals_cs)"
   ],
   "metadata": {
    "collapsed": false,
    "is_executing": true
   },
   "id": "2db4d65726f6528d"
  },
  {
   "cell_type": "code",
   "execution_count": null,
   "outputs": [],
   "source": [
    "methods = ['Rand', 'LOO', 'TMC', 'Beta', 'CS']\n",
    "acc_values_asc = [acc_rand_asc, acc_loo_asc, acc_tmc_asc, acc_beta_asc, acc_cs_asc]\n",
    "acc_values_des = [acc_rand_des, acc_loo_des, acc_tmc_des, acc_beta_des, acc_cs_des]\n",
    "time_values = [time_rand, time_loo, time_tmc, time_beta, time_cs]\n",
    "\n",
    "barWidth = 0.35\n",
    "r1 = np.arange(len(acc_values_asc))\n",
    "r2 = [x + barWidth for x in r1]\n",
    "r_time = [x + barWidth/2 for x in r1]\n",
    "\n",
    "fig, ax1 = plt.subplots()\n",
    "\n",
    "ax1.set_ylim([max(acc_values_asc) * 1.2, min(acc_values_asc) * 1.2])\n",
    "height = acc_values_asc - max(acc_values_asc) * 1.2\n",
    "bottom = max(acc_values_asc) * 1.2\n",
    "bars1 = ax1.bar(r1, height=height, bottom=bottom, color='b', width=barWidth, edgecolor='grey', label='WAD Asc')\n",
    "ax1.set_xlabel('Methods')\n",
    "ax1.set_xticks([r + barWidth for r in range(len(acc_values_asc))])\n",
    "ax1.set_xticklabels(methods)\n",
    "ax1.set_ylabel('WAD Ascending', color='b')\n",
    "ax1.tick_params('y', colors='b')\n",
    "\n",
    "ax2 = ax1.twinx()\n",
    "bars2 = ax2.bar(r2, acc_values_des, color='g', width=barWidth, edgecolor='grey', label='WAD Des')\n",
    "ax2.set_ylabel('WAD Descending', color='g')\n",
    "ax2.tick_params('y', colors='g')\n",
    "\n",
    "ax3 = ax1.twinx()\n",
    "ax3.spines.right.set_position((\"axes\", 1.2))\n",
    "ax3.scatter(r_time, time_values, color='r', marker='o', label='Time')\n",
    "ax3.set_ylabel('Time (s)', color='r')\n",
    "ax3.tick_params('y', colors='r')\n",
    "\n",
    "ax1.legend(loc='upper left', bbox_to_anchor=(0, 1.0))\n",
    "ax2.legend(loc='upper left', bbox_to_anchor=(0, 0.9))\n",
    "ax3.legend(loc='upper left', bbox_to_anchor=(0, 0.8))\n",
    "\n",
    "plt.title('Weighted Accuracy Drop (WAD) & Computational Time for Shap Methods')\n",
    "plt.show()"
   ],
   "metadata": {
    "collapsed": false,
    "is_executing": true
   },
   "id": "caf173ce1ed8caa3"
  },
  {
   "cell_type": "code",
   "execution_count": null,
   "outputs": [],
   "source": [],
   "metadata": {
    "collapsed": false,
    "is_executing": true
   },
   "id": "189caf6b3326768"
  }
 ],
 "metadata": {
  "kernelspec": {
   "display_name": "Python 3",
   "language": "python",
   "name": "python3"
  },
  "language_info": {
   "codemirror_mode": {
    "name": "ipython",
    "version": 2
   },
   "file_extension": ".py",
   "mimetype": "text/x-python",
   "name": "python",
   "nbconvert_exporter": "python",
   "pygments_lexer": "ipython2",
   "version": "2.7.6"
  }
 },
 "nbformat": 4,
 "nbformat_minor": 5
}
