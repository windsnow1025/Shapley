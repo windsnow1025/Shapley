{
 "cells": [
  {
   "cell_type": "code",
   "execution_count": null,
   "id": "initial_id",
   "metadata": {
    "collapsed": true
   },
   "outputs": [],
   "source": [
    "from utils import *\n",
    "import numpy as np\n",
    "import time\n",
    "import torch\n",
    "from valda.valuation import DataValuation\n",
    "\n",
    "train_total = 1000\n",
    "train_start = 0\n",
    "train_size = 200\n",
    "dev_size = 100\n",
    "test_size = 300\n",
    "np.random.seed(0)\n",
    "torch.manual_seed(0)\n",
    "\n",
    "# Load data\n",
    "X_train, y_train_clean, X_dev, y_dev, X_test, y_test = load_data(train_total, dev_size, test_size)\n",
    "y_train, flip_indices = flip_labels(y_train_clean, flip_fraction=0.3)\n",
    "\n",
    "# Create a batch of training data\n",
    "X_train_batch = X_train[train_start:train_start + train_size]\n",
    "y_train_batch = y_train[train_start:train_start + train_size]\n",
    "\n",
    "# Define a DataValuation instance\n",
    "dv = DataValuation(X_train_batch, y_train_batch, X_dev, y_dev)"
   ]
  },
  {
   "cell_type": "markdown",
   "source": [
    "Run with the default setting:\n",
    "1. Logistic regression as the classifier\n",
    "2. Prediction accuracy as the value measurement"
   ],
   "metadata": {
    "collapsed": false
   },
   "id": "91d1c0dffa6177dc"
  },
  {
   "cell_type": "code",
   "execution_count": null,
   "outputs": [],
   "source": [
    "start_time = time.time()\n",
    "vals_loo = dv.estimate(method=\"loo\")\n",
    "end_time = time.time()\n",
    "time_loo = end_time - start_time\n",
    "print(\"Time elapsed: {:.2f} seconds\".format(time_loo))\n",
    "\n",
    "start_time = time.time()\n",
    "vals_tmc = dv.estimate(method=\"tmc-shapley\")\n",
    "end_time = time.time()\n",
    "time_tmc = end_time - start_time\n",
    "print(\"Time elapsed: {:.2f} seconds\".format(time_tmc))\n",
    "\n",
    "start_time = time.time()\n",
    "vals_beta = dv.estimate(method=\"beta-shapley\")\n",
    "end_time = time.time()\n",
    "time_beta = end_time - start_time\n",
    "print(\"Time elapsed: {:.2f} seconds\".format(time_beta))\n",
    "\n",
    "start_time = time.time()\n",
    "vals_cs = dv.estimate(method=\"cs-shapley\")\n",
    "end_time = time.time()\n",
    "time_cs = end_time - start_time\n",
    "print(\"Time elapsed: {:.2f} seconds\".format(time_cs))\n",
    "\n",
    "start_time = time.time()\n",
    "vals_inf = dv.estimate(method=\"inf_function\")\n",
    "end_time = time.time()\n",
    "time_inf = end_time - start_time\n",
    "print(\"Time elapsed: {:.2f} seconds\".format(time_inf))"
   ],
   "metadata": {
    "collapsed": false
   },
   "id": "b4811a99676bef98"
  },
  {
   "cell_type": "markdown",
   "source": [
    "Create vals_rand dictionary"
   ],
   "metadata": {
    "collapsed": false
   },
   "id": "5b73ad2a731b0a97"
  },
  {
   "cell_type": "code",
   "execution_count": null,
   "outputs": [],
   "source": [
    "vals_rand = {}\n",
    "for i in range(len(X_train_batch)):\n",
    "    vals_rand[i] = np.random.rand()"
   ],
   "metadata": {
    "collapsed": false
   },
   "id": "48b657526fdb0678"
  },
  {
   "cell_type": "markdown",
   "source": [
    "Plot the results"
   ],
   "metadata": {
    "collapsed": false
   },
   "id": "ccb033e5b1704b54"
  },
  {
   "cell_type": "code",
   "execution_count": null,
   "outputs": [],
   "source": [
    "res_rand, res_loo, res_tmc, res_beta, res_cs, res_inf = (\n",
    "    shap_comparison(X_train, y_train, X_test, y_test,\n",
    "                    vals_loo=vals_loo,\n",
    "                    vals_tmc=vals_tmc,\n",
    "                    vals_beta=vals_beta,\n",
    "                    vals_cs=vals_cs,\n",
    "                    vals_inf=vals_inf,\n",
    "                    vals_rand=vals_rand))\n",
    "\n",
    "# Plot Weighted Accuracy Drop (res) and Elapsed Time (time) for each method\n",
    "methods = ['LOO', 'TMC', 'Beta', 'CS', 'Inf']\n",
    "res_values = [res_loo, res_tmc, res_beta, res_cs, res_inf]\n",
    "time_values = [time_loo, time_tmc, time_beta, time_cs, time_inf]\n",
    "\n",
    "fig, ax1 = plt.subplots()\n",
    "\n",
    "# Plotting the weighted accuracy drop on the left y-axis\n",
    "ax1.bar(methods, res_values, color='b', alpha=0.6, label='Weighted Accuracy Drop')\n",
    "ax1.set_xlabel('Methods')\n",
    "ax1.set_ylabel('Weighted Accuracy Drop', color='b')\n",
    "ax1.tick_params('y', colors='b')\n",
    "\n",
    "ax2 = ax1.twinx()  # instantiate a second axes that shares the same x-axis\n",
    "\n",
    "# Plotting the elapsed time on the right y-axis\n",
    "ax2.bar(methods, time_values, color='r', alpha=0.3, label='Elapsed Time')\n",
    "ax2.set_ylabel('Elapsed Time', color='r')\n",
    "ax2.tick_params('y', colors='r')\n",
    "\n",
    "fig.tight_layout()  # otherwise the right y-label is slightly clipped\n",
    "plt.title('Weighted Accuracy Drop and Elapsed Time for Each Method')\n",
    "plt.show()"
   ],
   "metadata": {
    "collapsed": false
   },
   "id": "a9295e62d96436a4"
  }
 ],
 "metadata": {
  "kernelspec": {
   "display_name": "Python 3",
   "language": "python",
   "name": "python3"
  },
  "language_info": {
   "codemirror_mode": {
    "name": "ipython",
    "version": 2
   },
   "file_extension": ".py",
   "mimetype": "text/x-python",
   "name": "python",
   "nbconvert_exporter": "python",
   "pygments_lexer": "ipython2",
   "version": "2.7.6"
  }
 },
 "nbformat": 4,
 "nbformat_minor": 5
}
