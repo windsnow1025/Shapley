{
 "cells": [
  {
   "cell_type": "code",
   "execution_count": 1,
   "id": "initial_id",
   "metadata": {
    "collapsed": true,
    "ExecuteTime": {
     "end_time": "2023-09-12T04:42:00.817944400Z",
     "start_time": "2023-09-12T04:41:57.327715400Z"
    }
   },
   "outputs": [],
   "source": [
    "from utils import *\n",
    "import numpy as np\n",
    "import time\n",
    "import torch\n",
    "from valda.valuation import DataValuation\n",
    "\n",
    "train_size = 1000\n",
    "train_start = 0\n",
    "train_size_batch = 200\n",
    "dev_size = 100\n",
    "test_size = 300\n",
    "np.random.seed(0)\n",
    "torch.manual_seed(0)\n",
    "\n",
    "# Load data\n",
    "X_train, y_train_clean, X_dev, y_dev, X_test, y_test = load_data(train_size, dev_size, test_size)\n",
    "y_train, flip_indices = flip_labels(y_train_clean, flip_fraction=0.3)\n",
    "\n",
    "# Create a batch of training data\n",
    "X_train_batch = X_train[train_start:train_start+train_size_batch]\n",
    "y_train_batch = y_train[train_start:train_start+train_size_batch]\n",
    "\n",
    "# Define a DataValuation instance\n",
    "dv = DataValuation(X_train_batch, y_train_batch, X_dev, y_dev)"
   ]
  },
  {
   "cell_type": "markdown",
   "source": [
    "Run with the default setting:\n",
    "1. Logistic regression as the classifier\n",
    "2. Prediction accuracy as the value measurement"
   ],
   "metadata": {
    "collapsed": false
   },
   "id": "91d1c0dffa6177dc"
  },
  {
   "cell_type": "code",
   "execution_count": 2,
   "outputs": [
    {
     "ename": "KeyboardInterrupt",
     "evalue": "",
     "output_type": "error",
     "traceback": [
      "\u001B[1;31m---------------------------------------------------------------------------\u001B[0m",
      "\u001B[1;31mKeyboardInterrupt\u001B[0m                         Traceback (most recent call last)",
      "Cell \u001B[1;32mIn[2], line 1\u001B[0m\n\u001B[1;32m----> 1\u001B[0m start_time \u001B[38;5;241m=\u001B[39m \u001B[43mtime\u001B[49m\u001B[38;5;241m.\u001B[39mtime()\n\u001B[0;32m      2\u001B[0m vals_loo \u001B[38;5;241m=\u001B[39m dv\u001B[38;5;241m.\u001B[39mestimate(method\u001B[38;5;241m=\u001B[39m\u001B[38;5;124m\"\u001B[39m\u001B[38;5;124mloo\u001B[39m\u001B[38;5;124m\"\u001B[39m)\n\u001B[0;32m      3\u001B[0m end_time \u001B[38;5;241m=\u001B[39m time\u001B[38;5;241m.\u001B[39mtime()\n",
      "Cell \u001B[1;32mIn[2], line 1\u001B[0m\n\u001B[1;32m----> 1\u001B[0m start_time \u001B[38;5;241m=\u001B[39m \u001B[43mtime\u001B[49m\u001B[38;5;241m.\u001B[39mtime()\n\u001B[0;32m      2\u001B[0m vals_loo \u001B[38;5;241m=\u001B[39m dv\u001B[38;5;241m.\u001B[39mestimate(method\u001B[38;5;241m=\u001B[39m\u001B[38;5;124m\"\u001B[39m\u001B[38;5;124mloo\u001B[39m\u001B[38;5;124m\"\u001B[39m)\n\u001B[0;32m      3\u001B[0m end_time \u001B[38;5;241m=\u001B[39m time\u001B[38;5;241m.\u001B[39mtime()\n",
      "File \u001B[1;32m_pydevd_bundle\\pydevd_cython_win32_38_64.pyx:1179\u001B[0m, in \u001B[0;36m_pydevd_bundle.pydevd_cython_win32_38_64.SafeCallWrapper.__call__\u001B[1;34m()\u001B[0m\n",
      "File \u001B[1;32m_pydevd_bundle\\pydevd_cython_win32_38_64.pyx:620\u001B[0m, in \u001B[0;36m_pydevd_bundle.pydevd_cython_win32_38_64.PyDBFrame.trace_dispatch\u001B[1;34m()\u001B[0m\n",
      "File \u001B[1;32m_pydevd_bundle\\pydevd_cython_win32_38_64.pyx:929\u001B[0m, in \u001B[0;36m_pydevd_bundle.pydevd_cython_win32_38_64.PyDBFrame.trace_dispatch\u001B[1;34m()\u001B[0m\n",
      "File \u001B[1;32m_pydevd_bundle\\pydevd_cython_win32_38_64.pyx:920\u001B[0m, in \u001B[0;36m_pydevd_bundle.pydevd_cython_win32_38_64.PyDBFrame.trace_dispatch\u001B[1;34m()\u001B[0m\n",
      "File \u001B[1;32m_pydevd_bundle\\pydevd_cython_win32_38_64.pyx:317\u001B[0m, in \u001B[0;36m_pydevd_bundle.pydevd_cython_win32_38_64.PyDBFrame.do_wait_suspend\u001B[1;34m()\u001B[0m\n",
      "File \u001B[1;32m~\\AppData\\Local\\Programs\\PyCharm Professional\\plugins\\python\\helpers\\pydev\\pydevd.py:1160\u001B[0m, in \u001B[0;36mPyDB.do_wait_suspend\u001B[1;34m(self, thread, frame, event, arg, send_suspend_message, is_unhandled_exception)\u001B[0m\n\u001B[0;32m   1157\u001B[0m         from_this_thread\u001B[38;5;241m.\u001B[39mappend(frame_id)\n\u001B[0;32m   1159\u001B[0m \u001B[38;5;28;01mwith\u001B[39;00m \u001B[38;5;28mself\u001B[39m\u001B[38;5;241m.\u001B[39m_threads_suspended_single_notification\u001B[38;5;241m.\u001B[39mnotify_thread_suspended(thread_id, stop_reason):\n\u001B[1;32m-> 1160\u001B[0m     \u001B[38;5;28;43mself\u001B[39;49m\u001B[38;5;241;43m.\u001B[39;49m\u001B[43m_do_wait_suspend\u001B[49m\u001B[43m(\u001B[49m\u001B[43mthread\u001B[49m\u001B[43m,\u001B[49m\u001B[43m \u001B[49m\u001B[43mframe\u001B[49m\u001B[43m,\u001B[49m\u001B[43m \u001B[49m\u001B[43mevent\u001B[49m\u001B[43m,\u001B[49m\u001B[43m \u001B[49m\u001B[43marg\u001B[49m\u001B[43m,\u001B[49m\u001B[43m \u001B[49m\u001B[43msuspend_type\u001B[49m\u001B[43m,\u001B[49m\u001B[43m \u001B[49m\u001B[43mfrom_this_thread\u001B[49m\u001B[43m)\u001B[49m\n",
      "File \u001B[1;32m~\\AppData\\Local\\Programs\\PyCharm Professional\\plugins\\python\\helpers\\pydev\\pydevd.py:1175\u001B[0m, in \u001B[0;36mPyDB._do_wait_suspend\u001B[1;34m(self, thread, frame, event, arg, suspend_type, from_this_thread)\u001B[0m\n\u001B[0;32m   1172\u001B[0m             \u001B[38;5;28mself\u001B[39m\u001B[38;5;241m.\u001B[39m_call_mpl_hook()\n\u001B[0;32m   1174\u001B[0m         \u001B[38;5;28mself\u001B[39m\u001B[38;5;241m.\u001B[39mprocess_internal_commands()\n\u001B[1;32m-> 1175\u001B[0m         \u001B[43mtime\u001B[49m\u001B[38;5;241;43m.\u001B[39;49m\u001B[43msleep\u001B[49m\u001B[43m(\u001B[49m\u001B[38;5;241;43m0.01\u001B[39;49m\u001B[43m)\u001B[49m\n\u001B[0;32m   1177\u001B[0m \u001B[38;5;28mself\u001B[39m\u001B[38;5;241m.\u001B[39mcancel_async_evaluation(get_current_thread_id(thread), \u001B[38;5;28mstr\u001B[39m(\u001B[38;5;28mid\u001B[39m(frame)))\n\u001B[0;32m   1179\u001B[0m \u001B[38;5;66;03m# process any stepping instructions\u001B[39;00m\n",
      "\u001B[1;31mKeyboardInterrupt\u001B[0m: "
     ]
    }
   ],
   "source": [
    "start_time = time.time()\n",
    "vals_loo = dv.estimate(method=\"loo\")\n",
    "end_time = time.time()\n",
    "time_loo = end_time - start_time\n",
    "print(\"Time elapsed: {:.2f} seconds\".format(time_loo))\n",
    "\n",
    "start_time = time.time()\n",
    "vals_tmc = dv.estimate(method=\"tmc-shapley\")\n",
    "end_time = time.time()\n",
    "time_tmc = end_time - start_time\n",
    "print(\"Time elapsed: {:.2f} seconds\".format(time_tmc))\n",
    "\n",
    "start_time = time.time()\n",
    "vals_beta = dv.estimate(method=\"beta-shapley\")\n",
    "end_time = time.time()\n",
    "time_beta = end_time - start_time\n",
    "print(\"Time elapsed: {:.2f} seconds\".format(time_beta))\n",
    "\n",
    "start_time = time.time()\n",
    "vals_cs = dv.estimate(method=\"cs-shapley\")\n",
    "end_time = time.time()\n",
    "time_cs = end_time - start_time\n",
    "print(\"Time elapsed: {:.2f} seconds\".format(time_cs))"
   ],
   "metadata": {
    "collapsed": false,
    "ExecuteTime": {
     "end_time": "2023-09-12T04:42:11.408282800Z",
     "start_time": "2023-09-12T04:42:01.777761700Z"
    }
   },
   "id": "b4811a99676bef98"
  },
  {
   "cell_type": "markdown",
   "source": [
    "Create vals_rand dictionary"
   ],
   "metadata": {
    "collapsed": false
   },
   "id": "5b73ad2a731b0a97"
  },
  {
   "cell_type": "code",
   "execution_count": 3,
   "outputs": [],
   "source": [
    "vals_rand = {}\n",
    "for i in range(train_size_batch):\n",
    "    vals_rand[i] = np.random.rand()"
   ],
   "metadata": {
    "collapsed": false,
    "ExecuteTime": {
     "end_time": "2023-09-12T04:42:15.141209400Z",
     "start_time": "2023-09-12T04:42:15.137500800Z"
    }
   },
   "id": "48b657526fdb0678"
  },
  {
   "cell_type": "markdown",
   "source": [
    "Plot the results"
   ],
   "metadata": {
    "collapsed": false
   },
   "id": "ccb033e5b1704b54"
  },
  {
   "cell_type": "code",
   "execution_count": 4,
   "outputs": [
    {
     "ename": "KeyboardInterrupt",
     "evalue": "",
     "output_type": "error",
     "traceback": [
      "\u001B[1;31m---------------------------------------------------------------------------\u001B[0m",
      "\u001B[1;31mKeyboardInterrupt\u001B[0m                         Traceback (most recent call last)",
      "Cell \u001B[1;32mIn[4], line 1\u001B[0m\n\u001B[1;32m----> 1\u001B[0m res_rand, res_loo, res_tmc, res_beta, res_cs, _ \u001B[38;5;241m=\u001B[39m \u001B[43mshap_comparison\u001B[49m(\n\u001B[0;32m      2\u001B[0m     X_train, y_train, X_test, y_test,\n\u001B[0;32m      3\u001B[0m     remove_high_value\u001B[38;5;241m=\u001B[39m\u001B[38;5;28;01mFalse\u001B[39;00m,\n\u001B[0;32m      4\u001B[0m     vals_rand\u001B[38;5;241m=\u001B[39mvals_rand,\n\u001B[0;32m      5\u001B[0m     vals_loo\u001B[38;5;241m=\u001B[39mvals_loo,\n\u001B[0;32m      6\u001B[0m     vals_tmc\u001B[38;5;241m=\u001B[39mvals_tmc,\n\u001B[0;32m      7\u001B[0m     vals_beta\u001B[38;5;241m=\u001B[39mvals_beta,\n\u001B[0;32m      8\u001B[0m     vals_cs\u001B[38;5;241m=\u001B[39mvals_cs)\n\u001B[0;32m     10\u001B[0m \u001B[38;5;66;03m# Plot Weighted Accuracy Drop (res) and Elapsed Time (time) for each method\u001B[39;00m\n\u001B[0;32m     11\u001B[0m methods \u001B[38;5;241m=\u001B[39m [\u001B[38;5;124m'\u001B[39m\u001B[38;5;124mLOO\u001B[39m\u001B[38;5;124m'\u001B[39m, \u001B[38;5;124m'\u001B[39m\u001B[38;5;124mTMC\u001B[39m\u001B[38;5;124m'\u001B[39m, \u001B[38;5;124m'\u001B[39m\u001B[38;5;124mBeta\u001B[39m\u001B[38;5;124m'\u001B[39m, \u001B[38;5;124m'\u001B[39m\u001B[38;5;124mCS\u001B[39m\u001B[38;5;124m'\u001B[39m, \u001B[38;5;124m'\u001B[39m\u001B[38;5;124mInf\u001B[39m\u001B[38;5;124m'\u001B[39m]\n",
      "Cell \u001B[1;32mIn[4], line 1\u001B[0m\n\u001B[1;32m----> 1\u001B[0m res_rand, res_loo, res_tmc, res_beta, res_cs, _ \u001B[38;5;241m=\u001B[39m \u001B[43mshap_comparison\u001B[49m(\n\u001B[0;32m      2\u001B[0m     X_train, y_train, X_test, y_test,\n\u001B[0;32m      3\u001B[0m     remove_high_value\u001B[38;5;241m=\u001B[39m\u001B[38;5;28;01mFalse\u001B[39;00m,\n\u001B[0;32m      4\u001B[0m     vals_rand\u001B[38;5;241m=\u001B[39mvals_rand,\n\u001B[0;32m      5\u001B[0m     vals_loo\u001B[38;5;241m=\u001B[39mvals_loo,\n\u001B[0;32m      6\u001B[0m     vals_tmc\u001B[38;5;241m=\u001B[39mvals_tmc,\n\u001B[0;32m      7\u001B[0m     vals_beta\u001B[38;5;241m=\u001B[39mvals_beta,\n\u001B[0;32m      8\u001B[0m     vals_cs\u001B[38;5;241m=\u001B[39mvals_cs)\n\u001B[0;32m     10\u001B[0m \u001B[38;5;66;03m# Plot Weighted Accuracy Drop (res) and Elapsed Time (time) for each method\u001B[39;00m\n\u001B[0;32m     11\u001B[0m methods \u001B[38;5;241m=\u001B[39m [\u001B[38;5;124m'\u001B[39m\u001B[38;5;124mLOO\u001B[39m\u001B[38;5;124m'\u001B[39m, \u001B[38;5;124m'\u001B[39m\u001B[38;5;124mTMC\u001B[39m\u001B[38;5;124m'\u001B[39m, \u001B[38;5;124m'\u001B[39m\u001B[38;5;124mBeta\u001B[39m\u001B[38;5;124m'\u001B[39m, \u001B[38;5;124m'\u001B[39m\u001B[38;5;124mCS\u001B[39m\u001B[38;5;124m'\u001B[39m, \u001B[38;5;124m'\u001B[39m\u001B[38;5;124mInf\u001B[39m\u001B[38;5;124m'\u001B[39m]\n",
      "File \u001B[1;32m_pydevd_bundle\\pydevd_cython_win32_38_64.pyx:1179\u001B[0m, in \u001B[0;36m_pydevd_bundle.pydevd_cython_win32_38_64.SafeCallWrapper.__call__\u001B[1;34m()\u001B[0m\n",
      "File \u001B[1;32m_pydevd_bundle\\pydevd_cython_win32_38_64.pyx:620\u001B[0m, in \u001B[0;36m_pydevd_bundle.pydevd_cython_win32_38_64.PyDBFrame.trace_dispatch\u001B[1;34m()\u001B[0m\n",
      "File \u001B[1;32m_pydevd_bundle\\pydevd_cython_win32_38_64.pyx:929\u001B[0m, in \u001B[0;36m_pydevd_bundle.pydevd_cython_win32_38_64.PyDBFrame.trace_dispatch\u001B[1;34m()\u001B[0m\n",
      "File \u001B[1;32m_pydevd_bundle\\pydevd_cython_win32_38_64.pyx:920\u001B[0m, in \u001B[0;36m_pydevd_bundle.pydevd_cython_win32_38_64.PyDBFrame.trace_dispatch\u001B[1;34m()\u001B[0m\n",
      "File \u001B[1;32m_pydevd_bundle\\pydevd_cython_win32_38_64.pyx:317\u001B[0m, in \u001B[0;36m_pydevd_bundle.pydevd_cython_win32_38_64.PyDBFrame.do_wait_suspend\u001B[1;34m()\u001B[0m\n",
      "File \u001B[1;32m~\\AppData\\Local\\Programs\\PyCharm Professional\\plugins\\python\\helpers\\pydev\\pydevd.py:1160\u001B[0m, in \u001B[0;36mPyDB.do_wait_suspend\u001B[1;34m(self, thread, frame, event, arg, send_suspend_message, is_unhandled_exception)\u001B[0m\n\u001B[0;32m   1157\u001B[0m         from_this_thread\u001B[38;5;241m.\u001B[39mappend(frame_id)\n\u001B[0;32m   1159\u001B[0m \u001B[38;5;28;01mwith\u001B[39;00m \u001B[38;5;28mself\u001B[39m\u001B[38;5;241m.\u001B[39m_threads_suspended_single_notification\u001B[38;5;241m.\u001B[39mnotify_thread_suspended(thread_id, stop_reason):\n\u001B[1;32m-> 1160\u001B[0m     \u001B[38;5;28;43mself\u001B[39;49m\u001B[38;5;241;43m.\u001B[39;49m\u001B[43m_do_wait_suspend\u001B[49m\u001B[43m(\u001B[49m\u001B[43mthread\u001B[49m\u001B[43m,\u001B[49m\u001B[43m \u001B[49m\u001B[43mframe\u001B[49m\u001B[43m,\u001B[49m\u001B[43m \u001B[49m\u001B[43mevent\u001B[49m\u001B[43m,\u001B[49m\u001B[43m \u001B[49m\u001B[43marg\u001B[49m\u001B[43m,\u001B[49m\u001B[43m \u001B[49m\u001B[43msuspend_type\u001B[49m\u001B[43m,\u001B[49m\u001B[43m \u001B[49m\u001B[43mfrom_this_thread\u001B[49m\u001B[43m)\u001B[49m\n",
      "File \u001B[1;32m~\\AppData\\Local\\Programs\\PyCharm Professional\\plugins\\python\\helpers\\pydev\\pydevd.py:1175\u001B[0m, in \u001B[0;36mPyDB._do_wait_suspend\u001B[1;34m(self, thread, frame, event, arg, suspend_type, from_this_thread)\u001B[0m\n\u001B[0;32m   1172\u001B[0m             \u001B[38;5;28mself\u001B[39m\u001B[38;5;241m.\u001B[39m_call_mpl_hook()\n\u001B[0;32m   1174\u001B[0m         \u001B[38;5;28mself\u001B[39m\u001B[38;5;241m.\u001B[39mprocess_internal_commands()\n\u001B[1;32m-> 1175\u001B[0m         \u001B[43mtime\u001B[49m\u001B[38;5;241;43m.\u001B[39;49m\u001B[43msleep\u001B[49m\u001B[43m(\u001B[49m\u001B[38;5;241;43m0.01\u001B[39;49m\u001B[43m)\u001B[49m\n\u001B[0;32m   1177\u001B[0m \u001B[38;5;28mself\u001B[39m\u001B[38;5;241m.\u001B[39mcancel_async_evaluation(get_current_thread_id(thread), \u001B[38;5;28mstr\u001B[39m(\u001B[38;5;28mid\u001B[39m(frame)))\n\u001B[0;32m   1179\u001B[0m \u001B[38;5;66;03m# process any stepping instructions\u001B[39;00m\n",
      "\u001B[1;31mKeyboardInterrupt\u001B[0m: "
     ]
    }
   ],
   "source": [
    "res_rand, res_loo, res_tmc, res_beta, res_cs, _ = shap_comparison(\n",
    "    X_train, y_train, X_test, y_test,\n",
    "    remove_high_value=False,\n",
    "    vals_rand=vals_rand,\n",
    "    vals_loo=vals_loo,\n",
    "    vals_tmc=vals_tmc,\n",
    "    vals_beta=vals_beta,\n",
    "    vals_cs=vals_cs)\n",
    "\n",
    "# Plot Weighted Accuracy Drop (res) and Elapsed Time (time) for each method\n",
    "methods = ['LOO', 'TMC', 'Beta', 'CS', 'Inf']\n",
    "res_values = [res_loo, res_tmc, res_beta, res_cs]\n",
    "time_values = [time_loo, time_tmc, time_beta, time_cs]\n",
    "\n",
    "fig, ax1 = plt.subplots()\n",
    "\n",
    "# Plotting the weighted accuracy drop on the left y-axis\n",
    "ax1.bar(methods, res_values, color='b', alpha=0.6, label='Weighted Accuracy Drop')\n",
    "ax1.set_xlabel('Methods')\n",
    "ax1.set_ylabel('Weighted Accuracy Drop', color='b')\n",
    "ax1.tick_params('y', colors='b')\n",
    "\n",
    "ax2 = ax1.twinx()  # instantiate a second axes that shares the same x-axis\n",
    "\n",
    "# Plotting the elapsed time on the right y-axis\n",
    "ax2.bar(methods, time_values, color='r', alpha=0.3, label='Elapsed Time')\n",
    "ax2.set_ylabel('Elapsed Time', color='r')\n",
    "ax2.tick_params('y', colors='r')\n",
    "\n",
    "fig.tight_layout()  # otherwise the right y-label is slightly clipped\n",
    "plt.title('Weighted Accuracy Drop and Elapsed Time for Each Method')\n",
    "plt.show()"
   ],
   "metadata": {
    "collapsed": false,
    "ExecuteTime": {
     "end_time": "2023-09-12T04:42:25.712626800Z",
     "start_time": "2023-09-12T04:42:20.432103600Z"
    }
   },
   "id": "a9295e62d96436a4"
  }
 ],
 "metadata": {
  "kernelspec": {
   "display_name": "Python 3",
   "language": "python",
   "name": "python3"
  },
  "language_info": {
   "codemirror_mode": {
    "name": "ipython",
    "version": 2
   },
   "file_extension": ".py",
   "mimetype": "text/x-python",
   "name": "python",
   "nbconvert_exporter": "python",
   "pygments_lexer": "ipython2",
   "version": "2.7.6"
  }
 },
 "nbformat": 4,
 "nbformat_minor": 5
}
