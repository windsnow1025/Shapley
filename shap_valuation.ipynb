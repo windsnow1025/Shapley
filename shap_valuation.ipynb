{
 "cells": [
  {
   "cell_type": "markdown",
   "source": [
    "Import packages"
   ],
   "metadata": {
    "collapsed": false
   },
   "id": "d1e5e36dd4c36dd8"
  },
  {
   "cell_type": "code",
   "execution_count": 2,
   "outputs": [],
   "source": [
    "from utils import *\n",
    "import numpy as np\n",
    "import torch\n",
    "from valda.valuation import DataValuation"
   ],
   "metadata": {
    "collapsed": false,
    "ExecuteTime": {
     "end_time": "2023-09-13T11:43:50.181069200Z",
     "start_time": "2023-09-13T11:43:44.150955200Z"
    }
   },
   "id": "f804dbf09ce6f1a6"
  },
  {
   "cell_type": "markdown",
   "source": [
    "Initialize the parameters"
   ],
   "metadata": {
    "collapsed": false
   },
   "id": "fc8ea38bbbe585fe"
  },
  {
   "cell_type": "code",
   "execution_count": 3,
   "outputs": [
    {
     "data": {
      "text/plain": "<torch._C.Generator at 0x29cce4bf6d0>"
     },
     "execution_count": 3,
     "metadata": {},
     "output_type": "execute_result"
    }
   ],
   "source": [
    "train_size = 1000\n",
    "train_start = 0\n",
    "train_size_batch = 200\n",
    "dev_size = 200\n",
    "test_size = 1000\n",
    "np.random.seed(0)\n",
    "torch.manual_seed(0)"
   ],
   "metadata": {
    "collapsed": false,
    "ExecuteTime": {
     "end_time": "2023-09-13T11:43:50.369846300Z",
     "start_time": "2023-09-13T11:43:50.187325700Z"
    }
   },
   "id": "89c204043dc67a42"
  },
  {
   "cell_type": "markdown",
   "source": [
    "Load the MNIST dataset and split it into training and test sets."
   ],
   "metadata": {
    "collapsed": false
   },
   "id": "9427cef7eb1868e2"
  },
  {
   "cell_type": "code",
   "execution_count": 1,
   "outputs": [
    {
     "ename": "NameError",
     "evalue": "name 'load_data' is not defined",
     "output_type": "error",
     "traceback": [
      "\u001B[1;31m---------------------------------------------------------------------------\u001B[0m",
      "\u001B[1;31mNameError\u001B[0m                                 Traceback (most recent call last)",
      "Cell \u001B[1;32mIn[1], line 28\u001B[0m\n\u001B[0;32m     25\u001B[0m     plt\u001B[38;5;241m.\u001B[39mtight_layout()\n\u001B[0;32m     26\u001B[0m     plt\u001B[38;5;241m.\u001B[39mshow()\n\u001B[1;32m---> 28\u001B[0m X_train, y_train_clean, X_dev, y_dev, X_test, y_test \u001B[38;5;241m=\u001B[39m \u001B[43mload_data\u001B[49m(train_size, dev_size, test_size)\n\u001B[0;32m     29\u001B[0m y_train, flip_indices \u001B[38;5;241m=\u001B[39m flip_labels(y_train_clean, flip_fraction\u001B[38;5;241m=\u001B[39m\u001B[38;5;241m0.3\u001B[39m)\n",
      "\u001B[1;31mNameError\u001B[0m: name 'load_data' is not defined"
     ]
    }
   ],
   "source": [
    "X_train, y_train_clean, X_dev, y_dev, X_test, y_test = load_data(train_size, dev_size, test_size)\n",
    "y_train, flip_indices = flip_labels(y_train_clean, flip_fraction=0.3)"
   ],
   "metadata": {
    "collapsed": false,
    "ExecuteTime": {
     "end_time": "2023-09-13T11:43:40.268579100Z",
     "start_time": "2023-09-13T11:43:39.637401200Z"
    }
   },
   "id": "12951908e5fc2457"
  },
  {
   "cell_type": "markdown",
   "source": [
    "Divide the train set into batches and run the valuation."
   ],
   "metadata": {
    "collapsed": false
   },
   "id": "a877bffd525e94fc"
  },
  {
   "cell_type": "code",
   "execution_count": 11,
   "outputs": [],
   "source": [
    "X_train_batch = X_train[train_start:train_start+train_size_batch]\n",
    "y_train_batch = y_train[train_start:train_start+train_size_batch]"
   ],
   "metadata": {
    "collapsed": false,
    "ExecuteTime": {
     "end_time": "2023-09-13T02:07:31.374874900Z",
     "start_time": "2023-09-13T02:07:31.363636500Z"
    }
   },
   "id": "ae4e88ef3574074b"
  },
  {
   "cell_type": "code",
   "execution_count": 12,
   "outputs": [
    {
     "name": "stderr",
     "output_type": "stream",
     "text": [
      "100%|██████████| 500/500 [22:42<00:00,  2.72s/it]\n"
     ]
    }
   ],
   "source": [
    "# Define a DataValuation instance\n",
    "dv = DataValuation(X_train_batch, y_train_batch, X_dev, y_dev)\n",
    "\n",
    "# Run with the default setting:\n",
    "# 1. Logistic regression as the classifier\n",
    "# 2. Prediction accuracy as the value measurement\n",
    "vals_tmc = dv.estimate(method=\"tmc-shapley\")"
   ],
   "metadata": {
    "collapsed": false,
    "ExecuteTime": {
     "end_time": "2023-09-13T02:30:13.685623900Z",
     "start_time": "2023-09-13T02:07:31.374874900Z"
    }
   },
   "id": "5be8efe5f25a5a7"
  },
  {
   "cell_type": "markdown",
   "source": [
    "Get the indices of the data points with values < 0"
   ],
   "metadata": {
    "collapsed": false
   },
   "id": "ffb2430990775e55"
  },
  {
   "cell_type": "code",
   "execution_count": 13,
   "outputs": [],
   "source": [
    "min_indices_batch = [key for key, value in vals_tmc.items() if value <= 0]\n",
    "min_indices_batch = np.array(min_indices_batch) + train_start"
   ],
   "metadata": {
    "collapsed": false,
    "ExecuteTime": {
     "end_time": "2023-09-13T02:30:13.726896300Z",
     "start_time": "2023-09-13T02:30:13.670676700Z"
    }
   },
   "id": "3a6345578d50f2a8"
  },
  {
   "cell_type": "markdown",
   "source": [
    "Append the indices to a file"
   ],
   "metadata": {
    "collapsed": false
   },
   "id": "3119df9524a308e5"
  },
  {
   "cell_type": "code",
   "execution_count": 14,
   "outputs": [],
   "source": [
    "if not os.path.exists('./data'):\n",
    "    os.makedirs('./data')\n",
    "\n",
    "file_path = f'./data/min_indices_{str(train_start).zfill(3)}-{str(train_start+train_size_batch-1).zfill(3)}_{dev_size}.npy'\n",
    "np.save(file_path, min_indices_batch)"
   ],
   "metadata": {
    "collapsed": false,
    "ExecuteTime": {
     "end_time": "2023-09-13T02:30:13.726896300Z",
     "start_time": "2023-09-13T02:30:13.710586500Z"
    }
   },
   "id": "ca965179184d63d5"
  }
 ],
 "metadata": {
  "kernelspec": {
   "display_name": "Python 3",
   "language": "python",
   "name": "python3"
  },
  "language_info": {
   "codemirror_mode": {
    "name": "ipython",
    "version": 2
   },
   "file_extension": ".py",
   "mimetype": "text/x-python",
   "name": "python",
   "nbconvert_exporter": "python",
   "pygments_lexer": "ipython2",
   "version": "2.7.6"
  }
 },
 "nbformat": 4,
 "nbformat_minor": 5
}
