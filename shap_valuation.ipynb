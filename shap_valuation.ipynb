{
 "cells": [
  {
   "cell_type": "code",
   "execution_count": 52,
   "outputs": [
    {
     "data": {
      "text/plain": "<torch._C.Generator at 0x17353dada70>"
     },
     "execution_count": 52,
     "metadata": {},
     "output_type": "execute_result"
    }
   ],
   "source": [
    "from utils import *\n",
    "import numpy as np\n",
    "import torch\n",
    "from valda.valuation import DataValuation\n",
    "\n",
    "train_size = 1000\n",
    "train_start = 0\n",
    "train_size_batch = 1000\n",
    "dev_size = 300\n",
    "test_size = 1000\n",
    "np.random.seed(0)\n",
    "torch.manual_seed(0)"
   ],
   "metadata": {
    "collapsed": false,
    "ExecuteTime": {
     "end_time": "2023-09-14T03:07:50.872619400Z",
     "start_time": "2023-09-14T03:07:50.823895Z"
    }
   },
   "id": "f804dbf09ce6f1a6"
  },
  {
   "cell_type": "markdown",
   "source": [
    "Load data"
   ],
   "metadata": {
    "collapsed": false
   },
   "id": "9427cef7eb1868e2"
  },
  {
   "cell_type": "code",
   "execution_count": 53,
   "outputs": [],
   "source": [
    "X_train, y_train_clean, X_dev, y_dev, X_test, y_test = load_data(train_size, dev_size, test_size)\n",
    "y_train, flip_indices = flip_labels(y_train_clean, flip_fraction=0.3)\n",
    "\n",
    "X_train_batch = X_train[train_start:train_start+train_size_batch]\n",
    "y_train_batch = y_train[train_start:train_start+train_size_batch]"
   ],
   "metadata": {
    "collapsed": false,
    "ExecuteTime": {
     "end_time": "2023-09-14T03:07:50.983311300Z",
     "start_time": "2023-09-14T03:07:50.843606300Z"
    }
   },
   "id": "12951908e5fc2457"
  },
  {
   "cell_type": "markdown",
   "source": [
    "Run valuation"
   ],
   "metadata": {
    "collapsed": false
   },
   "id": "ff5bfa318cc43e7b"
  },
  {
   "cell_type": "code",
   "execution_count": 54,
   "outputs": [
    {
     "name": "stderr",
     "output_type": "stream",
     "text": [
      "100%|██████████| 500/500 [2:21:48<00:00, 17.02s/it]  \n"
     ]
    }
   ],
   "source": [
    "dv = DataValuation(X_train_batch, y_train_batch, X_dev, y_dev)\n",
    "vals_tmc = dv.estimate(method=\"tmc-shapley\")"
   ],
   "metadata": {
    "collapsed": false,
    "ExecuteTime": {
     "end_time": "2023-09-14T05:29:39.906757400Z",
     "start_time": "2023-09-14T03:07:50.984311700Z"
    }
   },
   "id": "5be8efe5f25a5a7"
  },
  {
   "cell_type": "markdown",
   "source": [
    "Get the indices of the data points with values < 0"
   ],
   "metadata": {
    "collapsed": false
   },
   "id": "ffb2430990775e55"
  },
  {
   "cell_type": "code",
   "execution_count": 55,
   "outputs": [],
   "source": [
    "min_indices_batch = [key for key, value in vals_tmc.items() if value <= 0]\n",
    "min_indices_batch = np.array(min_indices_batch) + train_start"
   ],
   "metadata": {
    "collapsed": false,
    "ExecuteTime": {
     "end_time": "2023-09-14T05:29:39.920286800Z",
     "start_time": "2023-09-14T05:29:39.905751200Z"
    }
   },
   "id": "3a6345578d50f2a8"
  },
  {
   "cell_type": "markdown",
   "source": [
    "Save the indices to a file"
   ],
   "metadata": {
    "collapsed": false
   },
   "id": "3119df9524a308e5"
  },
  {
   "cell_type": "code",
   "execution_count": 56,
   "outputs": [],
   "source": [
    "if not os.path.exists('./data'):\n",
    "    os.makedirs('./data')\n",
    "\n",
    "file_path = f'./data/min_indices_{str(train_start).zfill(3)}-{str(train_start+train_size_batch-1).zfill(3)}_{dev_size}.npy'\n",
    "np.save(file_path, min_indices_batch)"
   ],
   "metadata": {
    "collapsed": false,
    "ExecuteTime": {
     "end_time": "2023-09-14T05:29:39.938208900Z",
     "start_time": "2023-09-14T05:29:39.921287100Z"
    }
   },
   "id": "ca965179184d63d5"
  }
 ],
 "metadata": {
  "kernelspec": {
   "display_name": "Python 3",
   "language": "python",
   "name": "python3"
  },
  "language_info": {
   "codemirror_mode": {
    "name": "ipython",
    "version": 2
   },
   "file_extension": ".py",
   "mimetype": "text/x-python",
   "name": "python",
   "nbconvert_exporter": "python",
   "pygments_lexer": "ipython2",
   "version": "2.7.6"
  }
 },
 "nbformat": 4,
 "nbformat_minor": 5
}
