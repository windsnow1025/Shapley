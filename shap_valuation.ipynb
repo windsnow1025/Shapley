{
 "cells": [
  {
   "cell_type": "markdown",
   "source": [
    "Import packages"
   ],
   "metadata": {
    "collapsed": false
   },
   "id": "d1e5e36dd4c36dd8"
  },
  {
   "cell_type": "code",
   "execution_count": 1,
   "outputs": [],
   "source": [
    "from utils import *\n",
    "import numpy as np\n",
    "import torch\n",
    "from valda.valuation import DataValuation"
   ],
   "metadata": {
    "collapsed": false,
    "ExecuteTime": {
     "end_time": "2023-09-12T09:20:36.886032Z",
     "start_time": "2023-09-12T09:20:33.171597100Z"
    }
   },
   "id": "f804dbf09ce6f1a6"
  },
  {
   "cell_type": "markdown",
   "source": [
    "Initialize the parameters"
   ],
   "metadata": {
    "collapsed": false
   },
   "id": "fc8ea38bbbe585fe"
  },
  {
   "cell_type": "code",
   "execution_count": 2,
   "outputs": [
    {
     "data": {
      "text/plain": "<torch._C.Generator at 0x22b385c4030>"
     },
     "execution_count": 2,
     "metadata": {},
     "output_type": "execute_result"
    }
   ],
   "source": [
    "train_size = 1000\n",
    "train_start = 400\n",
    "train_size_batch = 200\n",
    "dev_size = 100\n",
    "test_size = 300\n",
    "np.random.seed(0)\n",
    "torch.manual_seed(0)"
   ],
   "metadata": {
    "collapsed": false,
    "ExecuteTime": {
     "end_time": "2023-09-12T09:20:36.911754800Z",
     "start_time": "2023-09-12T09:20:36.895349Z"
    }
   },
   "id": "89c204043dc67a42"
  },
  {
   "cell_type": "markdown",
   "source": [
    "Load the MNIST dataset and split it into training and test sets."
   ],
   "metadata": {
    "collapsed": false
   },
   "id": "9427cef7eb1868e2"
  },
  {
   "cell_type": "code",
   "execution_count": 3,
   "outputs": [],
   "source": [
    "X_train, y_train_clean, X_dev, y_dev, X_test, y_test = load_data(train_size, dev_size, test_size)\n",
    "y_train, flip_indices = flip_labels(y_train_clean, flip_fraction=0.3)"
   ],
   "metadata": {
    "collapsed": false,
    "ExecuteTime": {
     "end_time": "2023-09-12T09:20:37.231400800Z",
     "start_time": "2023-09-12T09:20:36.921327900Z"
    }
   },
   "id": "12951908e5fc2457"
  },
  {
   "cell_type": "markdown",
   "source": [
    "Divide the train set into batches and run the valuation."
   ],
   "metadata": {
    "collapsed": false
   },
   "id": "a877bffd525e94fc"
  },
  {
   "cell_type": "code",
   "execution_count": 4,
   "outputs": [],
   "source": [
    "X_train_batch = X_train[train_start:train_start+train_size_batch]\n",
    "y_train_batch = y_train[train_start:train_start+train_size_batch]"
   ],
   "metadata": {
    "collapsed": false,
    "ExecuteTime": {
     "end_time": "2023-09-12T09:20:37.242609400Z",
     "start_time": "2023-09-12T09:20:37.235384800Z"
    }
   },
   "id": "ae4e88ef3574074b"
  },
  {
   "cell_type": "code",
   "execution_count": 5,
   "outputs": [
    {
     "name": "stderr",
     "output_type": "stream",
     "text": [
      "100%|██████████| 500/500 [14:34<00:00,  1.75s/it]\n"
     ]
    }
   ],
   "source": [
    "# Define a DataValuation instance\n",
    "dv = DataValuation(X_train_batch, y_train_batch, X_dev, y_dev)\n",
    "\n",
    "# Run with the default setting:\n",
    "# 1. Logistic regression as the classifier\n",
    "# 2. Prediction accuracy as the value measurement\n",
    "vals_tmc = dv.estimate(method=\"tmc-shapley\")"
   ],
   "metadata": {
    "collapsed": false,
    "ExecuteTime": {
     "end_time": "2023-09-12T09:35:11.873042600Z",
     "start_time": "2023-09-12T09:20:37.243697800Z"
    }
   },
   "id": "5be8efe5f25a5a7"
  },
  {
   "cell_type": "markdown",
   "source": [
    "Get the indices of the data points with values < 0"
   ],
   "metadata": {
    "collapsed": false
   },
   "id": "ffb2430990775e55"
  },
  {
   "cell_type": "code",
   "execution_count": 6,
   "outputs": [],
   "source": [
    "min_indices_batch = [key for key, value in vals_tmc.items() if value <= 0]\n",
    "min_indices_batch = np.array(min_indices_batch) + train_start"
   ],
   "metadata": {
    "collapsed": false,
    "ExecuteTime": {
     "end_time": "2023-09-12T09:35:11.889667Z",
     "start_time": "2023-09-12T09:35:11.870779200Z"
    }
   },
   "id": "3a6345578d50f2a8"
  },
  {
   "cell_type": "markdown",
   "source": [
    "Append the indices to a file"
   ],
   "metadata": {
    "collapsed": false
   },
   "id": "3119df9524a308e5"
  },
  {
   "cell_type": "code",
   "execution_count": 7,
   "outputs": [],
   "source": [
    "if not os.path.exists('./data'):\n",
    "    os.makedirs('./data')\n",
    "\n",
    "file_path = f'./data/min_indices_{str(train_start).zfill(3)}_{str(train_start+train_size_batch-1).zfill(3)}.npy'\n",
    "np.save(file_path, min_indices_batch)"
   ],
   "metadata": {
    "collapsed": false,
    "ExecuteTime": {
     "end_time": "2023-09-12T09:35:11.889667Z",
     "start_time": "2023-09-12T09:35:11.881284Z"
    }
   },
   "id": "ca965179184d63d5"
  },
  {
   "cell_type": "code",
   "execution_count": 7,
   "outputs": [],
   "source": [],
   "metadata": {
    "collapsed": false,
    "ExecuteTime": {
     "end_time": "2023-09-12T09:35:11.908338Z",
     "start_time": "2023-09-12T09:35:11.889667Z"
    }
   },
   "id": "d86accfc93a1b3c"
  }
 ],
 "metadata": {
  "kernelspec": {
   "display_name": "Python 3",
   "language": "python",
   "name": "python3"
  },
  "language_info": {
   "codemirror_mode": {
    "name": "ipython",
    "version": 2
   },
   "file_extension": ".py",
   "mimetype": "text/x-python",
   "name": "python",
   "nbconvert_exporter": "python",
   "pygments_lexer": "ipython2",
   "version": "2.7.6"
  }
 },
 "nbformat": 4,
 "nbformat_minor": 5
}
