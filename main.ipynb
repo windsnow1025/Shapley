{
 "cells": [
  {
   "cell_type": "markdown",
   "source": [
    "Import packages"
   ],
   "metadata": {
    "collapsed": false
   },
   "id": "d1e5e36dd4c36dd8"
  },
  {
   "cell_type": "code",
   "execution_count": 1,
   "outputs": [],
   "source": [
    "from utils import *\n",
    "import numpy as np\n",
    "import torch\n",
    "import valda\n",
    "from valda.valuation import DataValuation"
   ],
   "metadata": {
    "collapsed": false,
    "ExecuteTime": {
     "end_time": "2023-09-12T02:48:40.107126100Z",
     "start_time": "2023-09-12T02:48:31.908050600Z"
    }
   },
   "id": "f804dbf09ce6f1a6"
  },
  {
   "cell_type": "markdown",
   "source": [
    "Initialize the parameters"
   ],
   "metadata": {
    "collapsed": false
   },
   "id": "fc8ea38bbbe585fe"
  },
  {
   "cell_type": "code",
   "execution_count": 2,
   "outputs": [
    {
     "data": {
      "text/plain": "<torch._C.Generator at 0x27c2e48bf90>"
     },
     "execution_count": 2,
     "metadata": {},
     "output_type": "execute_result"
    }
   ],
   "source": [
    "train_total = 1000\n",
    "train_start = 0\n",
    "train_size = 200\n",
    "dev_size = 100\n",
    "test_size = 300\n",
    "np.random.seed(0)\n",
    "torch.manual_seed(0)"
   ],
   "metadata": {
    "collapsed": false,
    "ExecuteTime": {
     "end_time": "2023-09-12T02:48:40.181454900Z",
     "start_time": "2023-09-12T02:48:40.107126100Z"
    }
   },
   "id": "89c204043dc67a42"
  },
  {
   "cell_type": "markdown",
   "source": [
    "## Load Dataset\n",
    "Load the MNIST dataset and split it into training and test sets."
   ],
   "metadata": {
    "collapsed": false
   },
   "id": "9427cef7eb1868e2"
  },
  {
   "cell_type": "code",
   "execution_count": 3,
   "outputs": [],
   "source": [
    "X_train, y_train_clean, X_dev, y_dev, X_test, y_test = load_data(train_total, dev_size, test_size)\n",
    "y_train, flip_indices = flip_labels(y_train_clean, flip_fraction=0.3)"
   ],
   "metadata": {
    "collapsed": false,
    "ExecuteTime": {
     "end_time": "2023-09-12T02:48:40.634099400Z",
     "start_time": "2023-09-12T02:48:40.140773600Z"
    }
   },
   "id": "12951908e5fc2457"
  },
  {
   "cell_type": "markdown",
   "source": [
    "Test the models on the poisoned data set"
   ],
   "metadata": {
    "collapsed": false
   },
   "id": "87a2646f35579633"
  },
  {
   "cell_type": "code",
   "execution_count": 4,
   "outputs": [
    {
     "name": "stdout",
     "output_type": "stream",
     "text": [
      "Accuracy of CNN model on cuda: 0.77\n",
      "Accuracy of CNN model on cuda: 0.69\n",
      "Accuracy of CNN model on cuda: 0.66\n",
      "Accuracy of CNN model on cuda: 0.71\n",
      "Accuracy of CNN model on cuda: 0.78\n",
      "Accuracy of CNN model on cuda: 0.72\n",
      "Accuracy of CNN model on cuda: 0.67\n",
      "Accuracy of CNN model on cuda: 0.67\n",
      "CNN accuracy on poisoned dataset: 0.70875\n",
      "Accuracy of Logistic Regression model: 0.38\n",
      "Logistic Regression accuracy on poisoned dataset: 0.38\n"
     ]
    }
   ],
   "source": [
    "cnn_accuracy_poisoned, cnn_accuracies_poisoned = cnn_tests(X_train, y_train, X_dev, y_dev)\n",
    "print('CNN accuracy on poisoned dataset: {}'.format(cnn_accuracy_poisoned))\n",
    "\n",
    "logistic_accuracy_poisoned = logistic_test(X_train, y_train, X_dev, y_dev)\n",
    "print('Logistic Regression accuracy on poisoned dataset: {}'.format(logistic_accuracy_poisoned))"
   ],
   "metadata": {
    "collapsed": false,
    "ExecuteTime": {
     "end_time": "2023-09-12T02:49:01.741294100Z",
     "start_time": "2023-09-12T02:48:40.626052400Z"
    }
   },
   "id": "3159e0db1a9deb06"
  },
  {
   "cell_type": "markdown",
   "source": [
    "Test the models on the clean data set"
   ],
   "metadata": {
    "collapsed": false
   },
   "id": "f6d12890f25c5b0"
  },
  {
   "cell_type": "code",
   "execution_count": 5,
   "outputs": [
    {
     "name": "stdout",
     "output_type": "stream",
     "text": [
      "Accuracy of CNN model on cuda: 0.90\n",
      "Accuracy of CNN model on cuda: 0.88\n",
      "Accuracy of CNN model on cuda: 0.89\n",
      "Accuracy of CNN model on cuda: 0.82\n",
      "Accuracy of CNN model on cuda: 0.88\n",
      "Accuracy of CNN model on cuda: 0.88\n",
      "Accuracy of CNN model on cuda: 0.87\n",
      "Accuracy of CNN model on cuda: 0.86\n",
      "CNN accuracy on clean dataset: 0.8725\n",
      "Accuracy of Logistic Regression model: 0.82\n",
      "Logistic Regression accuracy on clean dataset: 0.82\n"
     ]
    }
   ],
   "source": [
    "cnn_accuracy_pure, cnn_accuracies_pure = cnn_tests(X_train, y_train_clean, X_dev, y_dev)\n",
    "print('CNN accuracy on clean dataset: {}'.format(cnn_accuracy_pure))\n",
    "\n",
    "logistic_accuracy_pure = logistic_test(X_train, y_train_clean, X_dev, y_dev)\n",
    "print('Logistic Regression accuracy on clean dataset: {}'.format(logistic_accuracy_pure))"
   ],
   "metadata": {
    "collapsed": false,
    "ExecuteTime": {
     "end_time": "2023-09-12T02:49:07.250438100Z",
     "start_time": "2023-09-12T02:49:01.741294100Z"
    }
   },
   "id": "3087303435ec38f1"
  },
  {
   "cell_type": "markdown",
   "source": [
    "## Running\n",
    "Divide the train set into batches and run the valuation."
   ],
   "metadata": {
    "collapsed": false
   },
   "id": "a877bffd525e94fc"
  },
  {
   "cell_type": "code",
   "execution_count": 6,
   "outputs": [],
   "source": [
    "X_train_batch = X_train[train_start:train_start + train_size]\n",
    "y_train_batch = y_train[train_start:train_start + train_size]"
   ],
   "metadata": {
    "collapsed": false,
    "ExecuteTime": {
     "end_time": "2023-09-12T02:49:07.296239100Z",
     "start_time": "2023-09-12T02:49:07.226211600Z"
    }
   },
   "id": "ae4e88ef3574074b"
  },
  {
   "cell_type": "code",
   "execution_count": 7,
   "outputs": [
    {
     "name": "stderr",
     "output_type": "stream",
     "text": [
      "100%|██████████| 500/500 [19:51<00:00,  2.38s/it]\n"
     ]
    }
   ],
   "source": [
    "# Define a DataValuation instance\n",
    "dv = DataValuation(X_train_batch, y_train_batch, X_dev, y_dev)\n",
    "\n",
    "# Run with the default setting:\n",
    "# 1. Logistic regression as the classifier\n",
    "# 2. Prediction accuracy as the value measurement\n",
    "vals_tmc = dv.estimate(method=\"tmc-shapley\")"
   ],
   "metadata": {
    "collapsed": false,
    "ExecuteTime": {
     "end_time": "2023-09-12T03:08:58.357315600Z",
     "start_time": "2023-09-12T02:49:07.250438100Z"
    }
   },
   "id": "5be8efe5f25a5a7"
  },
  {
   "cell_type": "markdown",
   "source": [
    "## Results\n",
    "Get the indices of the data points with values < 0"
   ],
   "metadata": {
    "collapsed": false
   },
   "id": "ffb2430990775e55"
  },
  {
   "cell_type": "code",
   "execution_count": 8,
   "outputs": [],
   "source": [
    "min_indices_batch = [key for key, value in vals_tmc.items() if value <= 0]\n",
    "min_indices_batch = np.array(min_indices_batch) + train_start"
   ],
   "metadata": {
    "collapsed": false,
    "ExecuteTime": {
     "end_time": "2023-09-12T03:08:58.366750300Z",
     "start_time": "2023-09-12T03:08:58.355144400Z"
    }
   },
   "id": "3a6345578d50f2a8"
  },
  {
   "cell_type": "markdown",
   "source": [
    "Append the indices to a file"
   ],
   "metadata": {
    "collapsed": false
   },
   "id": "3119df9524a308e5"
  },
  {
   "cell_type": "code",
   "execution_count": 9,
   "outputs": [],
   "source": [
    "if not os.path.exists('./data'):\n",
    "    os.makedirs('./data')\n",
    "\n",
    "file_path = f'./data/min_indices_{str(train_start).zfill(3)}_{str(train_start+train_size-1).zfill(3)}.npy'\n",
    "np.save(file_path, min_indices_batch)"
   ],
   "metadata": {
    "collapsed": false,
    "ExecuteTime": {
     "end_time": "2023-09-12T03:08:58.382552Z",
     "start_time": "2023-09-12T03:08:58.368917300Z"
    }
   },
   "id": "ca965179184d63d5"
  }
 ],
 "metadata": {
  "kernelspec": {
   "display_name": "Python 3",
   "language": "python",
   "name": "python3"
  },
  "language_info": {
   "codemirror_mode": {
    "name": "ipython",
    "version": 2
   },
   "file_extension": ".py",
   "mimetype": "text/x-python",
   "name": "python",
   "nbconvert_exporter": "python",
   "pygments_lexer": "ipython2",
   "version": "2.7.6"
  }
 },
 "nbformat": 4,
 "nbformat_minor": 5
}
